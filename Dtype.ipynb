{
 "cells": [
  {
   "cell_type": "markdown",
   "id": "173296ce-504c-4f4e-88e6-f8f66e07c0ea",
   "metadata": {},
   "source": [
    "#### DTYPE\n",
    "* The data type object 'dtype' is an instance of numpy.dtype class. It can be created with numpy.dtype\n",
    "* So far, we have used in our examples of numpy arrays only fundamental numeric data types like 'int' and 'float'.\n",
    "* These numpy arrays contained solely homogenous data types. dtype objects are\n",
    "construed by combinations of fundamental data types.\n",
    "* With the aid of dtype we are capable to create \"Structured Arrays\", - also\n",
    "known as \"Record Arrays\""
   ]
  },
  {
   "cell_type": "code",
   "execution_count": 2,
   "id": "b6600f3a-8593-4f29-b752-8f1f4d4f913e",
   "metadata": {},
   "outputs": [
    {
     "name": "stdout",
     "output_type": "stream",
     "text": [
      "int16\n",
      "[[ 3  8  9]\n",
      " [ 1 -7  0]\n",
      " [ 4 12  4]]\n"
     ]
    }
   ],
   "source": [
    "import numpy as np\n",
    "il6 = np.dtype(np.int16)\n",
    "print(il6)\n",
    "\n",
    "lst = [[3.4, 8.7, 9.9],\n",
    "       [1.1, -7.8, -0.7],\n",
    "       [4.1, 12.3, 4.9]]\n",
    "\n",
    "A = np.array(lst, dtype=il6)\n",
    "print(A)"
   ]
  },
  {
   "cell_type": "markdown",
   "id": "465b9d7d-86ba-4251-bfac-175ee1ca2a6b",
   "metadata": {},
   "source": [
    "#### Strucutured Arrays\n",
    "* ndarrays are homogeneous data objects, i.e. all elements of an array have to be of the same data type.\n",
    "* The data type dytpe on the other hand allows as to define separate data types for each column."
   ]
  },
  {
   "cell_type": "code",
   "execution_count": 3,
   "id": "a99d4d80-1c9f-462b-bb78-d2d55e3c1b6d",
   "metadata": {},
   "outputs": [
    {
     "name": "stdout",
     "output_type": "stream",
     "text": [
      "[(393,) (337,) (256,)]\n",
      "\n",
      "The internal representaion:\n",
      "array([(393,), (337,), (256,)], dtype=[('density', '<i4')])\n",
      "[393 337 256]\n"
     ]
    }
   ],
   "source": [
    "import numpy as np\n",
    "\n",
    "dt = np.dtype([('density', np.int32)])\n",
    "x = np.array([(393, ),(337, ),(256, )], dtype=dt)\n",
    "\n",
    "print(x)\n",
    "print(\"\\nThe internal representaion:\")\n",
    "print(repr(x))\n",
    "\n",
    "\n",
    "print(x['density'])"
   ]
  },
  {
   "cell_type": "code",
   "execution_count": 4,
   "id": "a7d8635d-143b-45c1-9763-32e3af5fadf4",
   "metadata": {},
   "outputs": [
    {
     "name": "stdout",
     "output_type": "stream",
     "text": [
      "[(3,) (4,) (4,)]\n",
      "array([(3,), (4,), (4,)], dtype=[('Integers', '<i2')])\n",
      "[3 4 4]\n"
     ]
    }
   ],
   "source": [
    "intt = np.dtype([('Integers', np.int16)])\n",
    "y = np.array([(3),(4),(4)], dtype = intt)\n",
    "print(y)\n",
    "\n",
    "print(repr(y))\n",
    "\n",
    "print(y['Integers'])"
   ]
  },
  {
   "cell_type": "code",
   "execution_count": 5,
   "id": "24694399-c7fc-4a59-8948-30e8e4d12192",
   "metadata": {},
   "outputs": [
    {
     "name": "stdout",
     "output_type": "stream",
     "text": [
      "float64 = 8\n",
      "float64 > 8\n",
      "float64 = 8\n"
     ]
    }
   ],
   "source": [
    "# little - endian ordering\n",
    "dt = np.dtype('<d')\n",
    "print(dt.name, dt.byteorder, dt.itemsize)\n",
    "\n",
    "# big - endian ordering\n",
    "dt = np.dtype('>d')\n",
    "print(dt.name, dt.byteorder, dt.itemsize)\n",
    "\n",
    "# native byte ordering\n",
    "dt = np.dtype('d')\n",
    "print(dt.name, dt.byteorder, dt.itemsize)\n",
    "\n"
   ]
  },
  {
   "cell_type": "markdown",
   "id": "cce3f3de-87d3-407f-9b45-7a71614c700d",
   "metadata": {},
   "source": [
    "* So you may ask yourself, if it is possible to use tuples and lists interchangeably? This is not possible.\n",
    "* The tuples are used to define the records - in our case consisting solely of a density - and the list is the 'container' for the records or in other words 'the lists are cursed upon'.\n",
    "* The tuples define the atomic elements of the structure and the lists the dimensions "
   ]
  },
  {
   "cell_type": "code",
   "execution_count": 6,
   "id": "731084b9-c510-4243-9628-25b5c5bb2c4c",
   "metadata": {},
   "outputs": [
    {
     "name": "stdout",
     "output_type": "stream",
     "text": [
      "[(b'Netherlands', 393,  41536, 16928800)\n",
      " (b'Belgium', 337,  30510, 11007020)\n",
      " (b'United Kingdom', 256, 243610, 62262000)\n",
      " (b'Germany', 233, 357021, 81799600)]\n"
     ]
    }
   ],
   "source": [
    "dt = np.dtype([('Country', 'S20'), ('density', 'i4'), ('area', 'i4'), ('population', 'i4')])\n",
    "population_table = np.array([\n",
    "    ('Netherlands', 393, 41536, 16928800),\n",
    "    ('Belgium', 337, 30510, 11007020),\n",
    "    ('United Kingdom', 256, 243610, 62262000),\n",
    "    ('Germany', 233, 357021, 81799600),\n",
    "    ('Liechtenstein', 205, 160, 32842),\n",
    "    ('Italy', 192, 301230, 59715625),\n",
    "    ('Switzerland', 177, 41290, 7301994),\n",
    "    ('Luxembourg', 173, 2586, 512000),\n",
    "    ('France', 111, 547030, 63601002),\n",
    "    ('Austria', 97, 83858, 8169929),\n",
    "    ('Greece', 81, 131940, 11606813),\n",
    "    ('Ireland', 65, 70280, 4581269),\n",
    "    ('Sweden', 20, 449964, 9515744),\n",
    "    ('Finland', 16, 338424, 5410233),\n",
    "    ('Norway', 13, 385252, 5033675)\n",
    "                             ], dtype = dt)\n",
    "\n",
    "print(population_table[:4])\n"
   ]
  },
  {
   "cell_type": "code",
   "execution_count": 7,
   "id": "38b6a55a-4a3c-410a-bef1-553c360949d6",
   "metadata": {},
   "outputs": [
    {
     "name": "stdout",
     "output_type": "stream",
     "text": [
      "Printing Each Colum individually\n",
      "\n",
      "Country: \n",
      "[b'Netherlands' b'Belgium' b'United Kingdom' b'Germany' b'Liechtenstein'\n",
      " b'Italy' b'Switzerland' b'Luxembourg' b'France' b'Austria' b'Greece'\n",
      " b'Ireland' b'Sweden' b'Finland' b'Norway']\n",
      "\n",
      "Density: \n",
      "[393 337 256 233 205 192 177 173 111  97  81  65  20  16  13]\n",
      "\n",
      "Area: \n",
      "[ 41536  30510 243610 357021    160 301230  41290   2586 547030  83858\n",
      " 131940  70280 449964 338424 385252]\n",
      "\n",
      "Population: \n",
      " [16928800 11007020 62262000 81799600    32842 59715625  7301994   512000\n",
      " 63601002  8169929 11606813  4581269  9515744  5410233  5033675]\n"
     ]
    }
   ],
   "source": [
    "# printing each column individually\n",
    "print(\"Printing Each Colum individually\")\n",
    "print(f\"\\nCountry: \\n{population_table['Country']}\")\n",
    "print(f\"\\nDensity: \\n{population_table['density']}\")\n",
    "print(f\"\\nArea: \\n{population_table['area']}\")\n",
    "print(f\"\\nPopulation: \\n {population_table['population']}\")"
   ]
  },
  {
   "cell_type": "markdown",
   "id": "a341c8a8-792a-4103-9b68-88741ef6e9b0",
   "metadata": {},
   "source": [
    "#### UNICODE STRINGS IN ARRAY\n",
    "* Some may have noticed that the strings in our previous array have been prefixed with a lower case \"b\".\n",
    "* This means that we have created binary strings with the definition \"('country', 'S20')\".\n",
    "* To get unicode strings we exchange this with the definition \"('country', np.unicode, 20)\".\n",
    "* We will redefine our population table now:"
   ]
  },
  {
   "cell_type": "code",
   "execution_count": 9,
   "id": "c6bcbdbf-ca70-423d-a26d-b8066f781d7c",
   "metadata": {},
   "outputs": [
    {
     "name": "stdout",
     "output_type": "stream",
     "text": [
      "[('Netherlands', 393,  41526, 16928800) ('Belgium', 337,  30510, 11007020)\n",
      " ('United Kingdom', 256, 243610, 62262000)\n",
      " ('Germany', 233, 357021, 81799600)\n",
      " ('Liechtenstein', 205,    160,    32842) ('Italy', 192, 301230, 59715625)\n",
      " ('Switzerland', 177,  41290,  7301994)\n",
      " ('Luxembourg', 173,   2586,   512000) ('France', 111, 547030, 63601002)\n",
      " ('Austria',  97,  83858,  8169929) ('Greece',  81, 131940, 11606813)\n",
      " ('Ireland',  65,  70280,  4581269) ('Sweden',  20, 449964,  9515744)\n",
      " ('Finland',  16, 338424,  5410233) ('Norway',  13, 385252,  5033675)]\n"
     ]
    }
   ],
   "source": [
    "dt = np.dtype([('country', np.unicode_, 20),\n",
    "               ('density', 'i4'),\n",
    "               ('area', 'i4'),\n",
    "               ('population', 'i4')\n",
    "              ])\n",
    "population_table = np.array([\n",
    "    ('Netherlands', 393, 41526, 16928800),\n",
    "    ('Belgium', 337, 30510, 11007020),\n",
    "    ('United Kingdom', 256, 243610, 62262000),\n",
    "    ('Germany', 233, 357021, 81799600),\n",
    "    ('Liechtenstein', 205, 160, 32842),\n",
    "    ('Italy', 192, 301230, 59715625),\n",
    "    ('Switzerland', 177, 41290, 7301994),\n",
    "    ('Luxembourg', 173, 2586, 512000),\n",
    "    ('France', 111, 547030, 63601002),\n",
    "    ('Austria', 97, 83858, 8169929),\n",
    "    ('Greece', 81, 131940, 11606813),\n",
    "    ('Ireland', 65, 70280, 4581269),\n",
    "    ('Sweden', 20, 449964, 9515744),\n",
    "    ('Finland', 16, 338424, 5410233),\n",
    "    ('Norway', 13, 385252, 5033675),\n",
    "    ], dtype=dt )\n",
    "print(population_table)"
   ]
  },
  {
   "cell_type": "code",
   "execution_count": null,
   "id": "840c3fe7-69a2-4bbc-9446-1afc80b3cf1f",
   "metadata": {},
   "outputs": [],
   "source": []
  }
 ],
 "metadata": {
  "kernelspec": {
   "display_name": "Python 3 (ipykernel)",
   "language": "python",
   "name": "python3"
  },
  "language_info": {
   "codemirror_mode": {
    "name": "ipython",
    "version": 3
   },
   "file_extension": ".py",
   "mimetype": "text/x-python",
   "name": "python",
   "nbconvert_exporter": "python",
   "pygments_lexer": "ipython3",
   "version": "3.12.5"
  }
 },
 "nbformat": 4,
 "nbformat_minor": 5
}
