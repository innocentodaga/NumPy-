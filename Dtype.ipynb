{
 "cells": [
  {
   "cell_type": "markdown",
   "id": "173296ce-504c-4f4e-88e6-f8f66e07c0ea",
   "metadata": {},
   "source": [
    "#### DTYPE\n",
    "* The data type object 'dtype' is an instance of numpy.dtype class. It can be created with numpy.dtype\n",
    "* So far, we have used in our examples of numpy arrays only fundamental numeric data types like 'int' and 'float'.\n",
    "* These numpy arrays contained solely homogenous data types. dtype objects are\n",
    "construed by combinations of fundamental data types.\n",
    "* With the aid of dtype we are capable to create \"Structured Arrays\", - also\n",
    "known as \"Record Arrays\""
   ]
  },
  {
   "cell_type": "code",
   "execution_count": 1,
   "id": "b6600f3a-8593-4f29-b752-8f1f4d4f913e",
   "metadata": {},
   "outputs": [
    {
     "name": "stdout",
     "output_type": "stream",
     "text": [
      "int16\n",
      "[[ 3  8  9]\n",
      " [ 1 -7  0]\n",
      " [ 4 12  4]]\n"
     ]
    }
   ],
   "source": [
    "import numpy as np\n",
    "il6 = np.dtype(np.int16)\n",
    "print(il6)\n",
    "\n",
    "lst = [[3.4, 8.7, 9.9],\n",
    "       [1.1, -7.8, -0.7],\n",
    "       [4.1, 12.3, 4.9]]\n",
    "\n",
    "A = np.array(lst, dtype=il6)\n",
    "print(A)"
   ]
  },
  {
   "cell_type": "markdown",
   "id": "465b9d7d-86ba-4251-bfac-175ee1ca2a6b",
   "metadata": {},
   "source": [
    "#### Strucutured Arrays\n",
    "* ndarrays are homogeneous data objects, i.e. all elements of an array have to be of the same data type.\n",
    "* The data type dytpe on the other hand allows as to define separate data types for each column."
   ]
  },
  {
   "cell_type": "code",
   "execution_count": 8,
   "id": "a99d4d80-1c9f-462b-bb78-d2d55e3c1b6d",
   "metadata": {},
   "outputs": [
    {
     "name": "stdout",
     "output_type": "stream",
     "text": [
      "[(393,) (337,) (256,)]\n",
      "\n",
      "The internal representaion:\n",
      "array([(393,), (337,), (256,)], dtype=[('density', '<i4')])\n",
      "[393 337 256]\n"
     ]
    }
   ],
   "source": [
    "import numpy as np\n",
    "\n",
    "dt = np.dtype([('density', np.int32)])\n",
    "x = np.array([(393, ),(337, ),(256, )], dtype=dt)\n",
    "\n",
    "print(x)\n",
    "print(\"\\nThe internal representaion:\")\n",
    "print(repr(x))\n",
    "\n",
    "\n",
    "print(x['density'])"
   ]
  },
  {
   "cell_type": "code",
   "execution_count": 9,
   "id": "a7d8635d-143b-45c1-9763-32e3af5fadf4",
   "metadata": {},
   "outputs": [
    {
     "name": "stdout",
     "output_type": "stream",
     "text": [
      "[(3,) (4,) (4,)]\n",
      "array([(3,), (4,), (4,)], dtype=[('Integers', '<i2')])\n",
      "[3 4 4]\n"
     ]
    }
   ],
   "source": [
    "intt = np.dtype([('Integers', np.int16)])\n",
    "y = np.array([(3),(4),(4)], dtype = intt)\n",
    "print(y)\n",
    "\n",
    "print(repr(y))\n",
    "\n",
    "print(y['Integers'])"
   ]
  },
  {
   "cell_type": "code",
   "execution_count": 4,
   "id": "24694399-c7fc-4a59-8948-30e8e4d12192",
   "metadata": {},
   "outputs": [
    {
     "name": "stdout",
     "output_type": "stream",
     "text": [
      "float64 = 8\n",
      "float64 > 8\n",
      "float64 = 8\n"
     ]
    }
   ],
   "source": [
    "# little - endian ordering\n",
    "dt = np.dtype('<d')\n",
    "print(dt.name, dt.byteorder, dt.itemsize)\n",
    "\n",
    "# big - endian ordering\n",
    "dt = np.dtype('>d')\n",
    "print(dt.name, dt.byteorder, dt.itemsize)\n",
    "\n",
    "# native byte ordering\n",
    "dt = np.dtype('d')\n",
    "print(dt.name, dt.byteorder, dt.itemsize)\n",
    "\n"
   ]
  },
  {
   "cell_type": "markdown",
   "id": "cce3f3de-87d3-407f-9b45-7a71614c700d",
   "metadata": {},
   "source": [
    "* So you may ask yourself, if it is possible to use tuples and lists interchangeably? This is not possible.\n",
    "* The tuples are used to define the records - in our case consisting solely of a density - and the list is the 'container' for the records or in other words 'the lists are cursed upon'.\n",
    "* The tuples define the atomic elements of the structure and the lists the dimensions "
   ]
  },
  {
   "cell_type": "code",
   "execution_count": 10,
   "id": "731084b9-c510-4243-9628-25b5c5bb2c4c",
   "metadata": {},
   "outputs": [
    {
     "name": "stdout",
     "output_type": "stream",
     "text": [
      "[(b'Netherlands', 393,  41536, 16928800)\n",
      " (b'Belgium', 337,  30510, 11007020)\n",
      " (b'United Kingdom', 256, 243610, 62262000)\n",
      " (b'Germany', 233, 357021, 81799600)]\n"
     ]
    }
   ],
   "source": [
    "dt = np.dtype([('Country', 'S20'), ('density', 'i4'), ('area', 'i4'), ('population', 'i4')])\n",
    "population_table = np.array([\n",
    "    ('Netherlands', 393, 41536, 16928800),\n",
    "    ('Belgium', 337, 30510, 11007020),\n",
    "    ('United Kingdom', 256, 243610, 62262000),\n",
    "    ('Germany', 233, 357021, 81799600),\n",
    "    ('Liechtenstein', 205, 160, 32842),\n",
    "    ('Italy', 192, 301230, 59715625),\n",
    "    ('Switzerland', 177, 41290, 7301994),\n",
    "    ('Luxembourg', 173, 2586, 512000),\n",
    "    ('France', 111, 547030, 63601002),\n",
    "    ('Austria', 97, 83858, 8169929),\n",
    "    ('Greece', 81, 131940, 11606813),\n",
    "    ('Ireland', 65, 70280, 4581269),\n",
    "    ('Sweden', 20, 449964, 9515744),\n",
    "    ('Finland', 16, 338424, 5410233),\n",
    "    ('Norway', 13, 385252, 5033675)\n",
    "                             ], dtype = dt)\n",
    "\n",
    "print(population_table[:4])\n"
   ]
  },
  {
   "cell_type": "code",
   "execution_count": 6,
   "id": "38b6a55a-4a3c-410a-bef1-553c360949d6",
   "metadata": {},
   "outputs": [
    {
     "name": "stdout",
     "output_type": "stream",
     "text": [
      "Printing Each Colum individually\n",
      "\n",
      "Country: \n",
      "[b'Netherlands' b'Belgium' b'United Kingdom' b'Germany' b'Liechtenstein'\n",
      " b'Italy' b'Switzerland' b'Luxembourg' b'France' b'Austria' b'Greece'\n",
      " b'Ireland' b'Sweden' b'Finland' b'Norway']\n",
      "\n",
      "Density: \n",
      "[393 337 256 233 205 192 177 173 111  97  81  65  20  16  13]\n",
      "\n",
      "Area: \n",
      "[ 41536  30510 243610 357021    160 301230  41290   2586 547030  83858\n",
      " 131940  70280 449964 338424 385252]\n",
      "\n",
      "Population: \n",
      " [16928800 11007020 62262000 81799600    32842 59715625  7301994   512000\n",
      " 63601002  8169929 11606813  4581269  9515744  5410233  5033675]\n"
     ]
    }
   ],
   "source": [
    "# printing each column individually\n",
    "print(\"Printing Each Colum individually\")\n",
    "print(f\"\\nCountry: \\n{population_table['Country']}\")\n",
    "print(f\"\\nDensity: \\n{population_table['density']}\")\n",
    "print(f\"\\nArea: \\n{population_table['area']}\")\n",
    "print(f\"\\nPopulation: \\n {population_table['population']}\")"
   ]
  },
  {
   "cell_type": "markdown",
   "id": "a341c8a8-792a-4103-9b68-88741ef6e9b0",
   "metadata": {},
   "source": [
    "#### UNICODE STRINGS IN ARRAY\n",
    "* Some may have noticed that the strings in our previous array have been prefixed with a lower case \"b\".\n",
    "* This means that we have created binary strings with the definition \"('country', 'S20')\".\n",
    "* To get unicode strings we exchange this with the definition \"('country', np.unicode, 20)\".\n",
    "* We will redefine our population table now:"
   ]
  },
  {
   "cell_type": "code",
   "execution_count": 11,
   "id": "c6bcbdbf-ca70-423d-a26d-b8066f781d7c",
   "metadata": {},
   "outputs": [
    {
     "name": "stdout",
     "output_type": "stream",
     "text": [
      "[('Netherlands', 393,  41526, 16928800) ('Belgium', 337,  30510, 11007020)\n",
      " ('United Kingdom', 256, 243610, 62262000)\n",
      " ('Germany', 233, 357021, 81799600)\n",
      " ('Liechtenstein', 205,    160,    32842) ('Italy', 192, 301230, 59715625)\n",
      " ('Switzerland', 177,  41290,  7301994)\n",
      " ('Luxembourg', 173,   2586,   512000) ('France', 111, 547030, 63601002)\n",
      " ('Austria',  97,  83858,  8169929) ('Greece',  81, 131940, 11606813)\n",
      " ('Ireland',  65,  70280,  4581269) ('Sweden',  20, 449964,  9515744)\n",
      " ('Finland',  16, 338424,  5410233) ('Norway',  13, 385252,  5033675)]\n"
     ]
    }
   ],
   "source": [
    "dt = np.dtype([('country', np.unicode_, 20),\n",
    "               ('density', 'i4'),\n",
    "               ('area', 'i4'),\n",
    "               ('population', 'i4')\n",
    "              ])\n",
    "population_table = np.array([\n",
    "    ('Netherlands', 393, 41526, 16928800),\n",
    "    ('Belgium', 337, 30510, 11007020),\n",
    "    ('United Kingdom', 256, 243610, 62262000),\n",
    "    ('Germany', 233, 357021, 81799600),\n",
    "    ('Liechtenstein', 205, 160, 32842),\n",
    "    ('Italy', 192, 301230, 59715625),\n",
    "    ('Switzerland', 177, 41290, 7301994),\n",
    "    ('Luxembourg', 173, 2586, 512000),\n",
    "    ('France', 111, 547030, 63601002),\n",
    "    ('Austria', 97, 83858, 8169929),\n",
    "    ('Greece', 81, 131940, 11606813),\n",
    "    ('Ireland', 65, 70280, 4581269),\n",
    "    ('Sweden', 20, 449964, 9515744),\n",
    "    ('Finland', 16, 338424, 5410233),\n",
    "    ('Norway', 13, 385252, 5033675),\n",
    "    ], dtype=dt )\n",
    "print(population_table)"
   ]
  },
  {
   "cell_type": "markdown",
   "id": "1f72a889-4a41-4713-9b30-ac5a0f7a083a",
   "metadata": {},
   "source": [
    "## INPUT AND OUTPUT OF STRUCTURED ARRAYS\n",
    "In most applications it will be necessary to save the data from a program into a file. We will write our\n",
    "previously created \"darray\" to a file with the command savetxt. "
   ]
  },
  {
   "cell_type": "code",
   "execution_count": 15,
   "id": "7535fbd4-7860-4c71-b82a-082450d48639",
   "metadata": {},
   "outputs": [],
   "source": [
    "# Saving the data to a csv file\n",
    "np.savetxt('Population_table.csv',\n",
    "          population_table,\n",
    "          fmt='%s;%d;%d;%d',\n",
    "          delimiter=';'\n",
    "          )"
   ]
  },
  {
   "cell_type": "code",
   "execution_count": 17,
   "id": "ceb220ff-1fdd-45a9-857a-422f8a2d9f2f",
   "metadata": {},
   "outputs": [
    {
     "name": "stdout",
     "output_type": "stream",
     "text": [
      "[('Netherlands', 393,  41526, 16928800) ('Belgium', 337,  30510, 11007020)\n",
      " ('United Kingdom', 256, 243610, 62262000)\n",
      " ('Germany', 233, 357021, 81799600)\n",
      " ('Liechtenstein', 205,    160,    32842) ('Italy', 192, 301230, 59715625)\n",
      " ('Switzerland', 177,  41290,  7301994)\n",
      " ('Luxembourg', 173,   2586,   512000) ('France', 111, 547030, 63601002)\n",
      " ('Austria',  97,  83858,  8169929) ('Greece',  81, 131940, 11606813)\n",
      " ('Ireland',  65,  70280,  4581269) ('Sweden',  20, 449964,  9515744)\n",
      " ('Finland',  16, 338424,  5410233) ('Norway',  13, 385252,  5033675)]\n"
     ]
    }
   ],
   "source": [
    "# Reading from the generated csv file\n",
    "dt = np.dtype([('country', np.unicode_, 20), ('density', 'i4'), ('area', 'i4'), ('population', 'i4')])\n",
    "x = np.genfromtxt('Population_table.csv',\n",
    "                  dtype=dt,\n",
    "                  delimiter=';')\n",
    "\n",
    "print(x)"
   ]
  },
  {
   "cell_type": "code",
   "execution_count": 19,
   "id": "8cd4cb6c-81ae-4a11-bb5d-b6222547b5a5",
   "metadata": {},
   "outputs": [
    {
     "name": "stdout",
     "output_type": "stream",
     "text": [
      "[('Netherlands', 393,  41526, 16928800) ('Belgium', 337,  30510, 11007020)\n",
      " ('United Kingdom', 256, 243610, 62262000)\n",
      " ('Germany', 233, 357021, 81799600)\n",
      " ('Liechtenstein', 205,    160,    32842) ('Italy', 192, 301230, 59715625)\n",
      " ('Switzerland', 177,  41290,  7301994)\n",
      " ('Luxembourg', 173,   2586,   512000) ('France', 111, 547030, 63601002)\n",
      " ('Austria',  97,  83858,  8169929) ('Greece',  81, 131940, 11606813)\n",
      " ('Ireland',  65,  70280,  4581269) ('Sweden',  20, 449964,  9515744)\n",
      " ('Finland',  16, 338424,  5410233) ('Norway',  13, 385252,  5033675)]\n"
     ]
    }
   ],
   "source": [
    "# Reading the csv using the loadtxt function \n",
    "dt = np.dtype([('country', np.unicode_, 20), \n",
    "               ('density', 'i4'), \n",
    "               ('area', 'i4'), \n",
    "               ('population', 'i4')])\n",
    "\n",
    "x = np.loadtxt('Population_table.csv',\n",
    "               dtype=dt,\n",
    "               delimiter=';')\n",
    "print(x)"
   ]
  },
  {
   "cell_type": "markdown",
   "id": "4869a321-8011-4f6a-964c-4c0b5acb6e91",
   "metadata": {},
   "source": [
    "### A MORE COMPLEX EXAMPLE:\n",
    "We will increase the complexity of our previous example by adding temperatures to the records."
   ]
  },
  {
   "cell_type": "code",
   "execution_count": 27,
   "id": "98263a8b-e593-438b-af4b-6503e808c2b2",
   "metadata": {},
   "outputs": [
    {
     "name": "stdout",
     "output_type": "stream",
     "text": [
      "[((11, 42, 17), 20.8) ((13, 19,  3), 23.2)]\n",
      "[(11, 42, 17) (13, 19,  3)]\n",
      "[11 13]\n",
      "[20.8 23.2]\n"
     ]
    }
   ],
   "source": [
    "time_type= np.dtype([('time', [('hr', int), \n",
    "                                        ('min', int), \n",
    "                                        ('sec', int)]),\n",
    "                              ('temperature', float)\n",
    "                               ])\n",
    "times = np.array([((11,  42, 17), 20.8),  ((13, 19, 3), 23.2)], \n",
    "                 dtype=time_type)\n",
    "print(times)\n",
    "print(times[\"time\"])\n",
    "print(times[\"time\"][\"hr\"])\n",
    "print(times[\"temperature\"])\n",
    "\n",
    "\n",
    "    \n",
    "                              "
   ]
  },
  {
   "cell_type": "markdown",
   "id": "28716278-9d53-490d-9d25-77598b29fd11",
   "metadata": {},
   "source": [
    "This exercise should be closer to real life examples. Usually, we have to create or get the data for our structured array from some data base or file. We will use the list, which we have created in our chapter on file I/O \"File Management\". The list has been saved with the aid of pickle.dump in the file cities_and_times.pkl.\n",
    "So the first task consists in unpickling our data"
   ]
  },
  {
   "cell_type": "code",
   "execution_count": 28,
   "id": "6f8360e4-73ff-4fd3-b2ba-0b39b25ea90c",
   "metadata": {},
   "outputs": [
    {
     "ename": "FileNotFoundError",
     "evalue": "[Errno 2] No such file or directory: ''",
     "output_type": "error",
     "traceback": [
      "\u001b[1;31m---------------------------------------------------------------------------\u001b[0m",
      "\u001b[1;31mFileNotFoundError\u001b[0m                         Traceback (most recent call last)",
      "Cell \u001b[1;32mIn[28], line 2\u001b[0m\n\u001b[0;32m      1\u001b[0m \u001b[38;5;28;01mimport\u001b[39;00m \u001b[38;5;21;01mpickle\u001b[39;00m\n\u001b[1;32m----> 2\u001b[0m fh \u001b[38;5;241m=\u001b[39m \u001b[38;5;28;43mopen\u001b[39;49m\u001b[43m(\u001b[49m\u001b[38;5;124;43m\"\u001b[39;49m\u001b[38;5;124;43m\"\u001b[39;49m\u001b[43m)\u001b[49m\n",
      "File \u001b[1;32mC:\\Python312\\Lib\\site-packages\\IPython\\core\\interactiveshell.py:324\u001b[0m, in \u001b[0;36m_modified_open\u001b[1;34m(file, *args, **kwargs)\u001b[0m\n\u001b[0;32m    317\u001b[0m \u001b[38;5;28;01mif\u001b[39;00m file \u001b[38;5;129;01min\u001b[39;00m {\u001b[38;5;241m0\u001b[39m, \u001b[38;5;241m1\u001b[39m, \u001b[38;5;241m2\u001b[39m}:\n\u001b[0;32m    318\u001b[0m     \u001b[38;5;28;01mraise\u001b[39;00m \u001b[38;5;167;01mValueError\u001b[39;00m(\n\u001b[0;32m    319\u001b[0m         \u001b[38;5;124mf\u001b[39m\u001b[38;5;124m\"\u001b[39m\u001b[38;5;124mIPython won\u001b[39m\u001b[38;5;124m'\u001b[39m\u001b[38;5;124mt let you open fd=\u001b[39m\u001b[38;5;132;01m{\u001b[39;00mfile\u001b[38;5;132;01m}\u001b[39;00m\u001b[38;5;124m by default \u001b[39m\u001b[38;5;124m\"\u001b[39m\n\u001b[0;32m    320\u001b[0m         \u001b[38;5;124m\"\u001b[39m\u001b[38;5;124mas it is likely to crash IPython. If you know what you are doing, \u001b[39m\u001b[38;5;124m\"\u001b[39m\n\u001b[0;32m    321\u001b[0m         \u001b[38;5;124m\"\u001b[39m\u001b[38;5;124myou can use builtins\u001b[39m\u001b[38;5;124m'\u001b[39m\u001b[38;5;124m open.\u001b[39m\u001b[38;5;124m\"\u001b[39m\n\u001b[0;32m    322\u001b[0m     )\n\u001b[1;32m--> 324\u001b[0m \u001b[38;5;28;01mreturn\u001b[39;00m \u001b[43mio_open\u001b[49m\u001b[43m(\u001b[49m\u001b[43mfile\u001b[49m\u001b[43m,\u001b[49m\u001b[43m \u001b[49m\u001b[38;5;241;43m*\u001b[39;49m\u001b[43margs\u001b[49m\u001b[43m,\u001b[49m\u001b[43m \u001b[49m\u001b[38;5;241;43m*\u001b[39;49m\u001b[38;5;241;43m*\u001b[39;49m\u001b[43mkwargs\u001b[49m\u001b[43m)\u001b[49m\n",
      "\u001b[1;31mFileNotFoundError\u001b[0m: [Errno 2] No such file or directory: ''"
     ]
    }
   ],
   "source": [
    "import pickle\n",
    "fh = open(\"\")"
   ]
  },
  {
   "cell_type": "code",
   "execution_count": null,
   "id": "aaa4fee4-66bf-44d6-ac5d-0eafb5637814",
   "metadata": {},
   "outputs": [],
   "source": []
  }
 ],
 "metadata": {
  "kernelspec": {
   "display_name": "Python 3 (ipykernel)",
   "language": "python",
   "name": "python3"
  },
  "language_info": {
   "codemirror_mode": {
    "name": "ipython",
    "version": 3
   },
   "file_extension": ".py",
   "mimetype": "text/x-python",
   "name": "python",
   "nbconvert_exporter": "python",
   "pygments_lexer": "ipython3",
   "version": "3.12.5"
  }
 },
 "nbformat": 4,
 "nbformat_minor": 5
}
