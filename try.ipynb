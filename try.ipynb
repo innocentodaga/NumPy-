{
 "cells": [
  {
   "cell_type": "code",
   "execution_count": 6,
   "id": "1414f5c7-0c5e-4fb4-a466-ba142f87832c",
   "metadata": {},
   "outputs": [
    {
     "name": "stdout",
     "output_type": "stream",
     "text": [
      "[[2 4]\n",
      " [3 5]]\n",
      "[[1 2]\n",
      " [3 4]]\n"
     ]
    }
   ],
   "source": [
    "import numpy as np\n",
    "arr1 = np.array([[2,4],[3,5]])\n",
    "arr2 = np.array([[1,2],[3,4]])\n",
    "\n",
    "print(arr1)\n",
    "print(arr2)"
   ]
  },
  {
   "cell_type": "code",
   "execution_count": 9,
   "id": "37a95d7f-83a1-4c01-8f2c-3ba6a475e4b5",
   "metadata": {},
   "outputs": [
    {
     "name": "stdout",
     "output_type": "stream",
     "text": [
      "[[3 6]\n",
      " [6 9]]\n",
      "[[ 4 16]\n",
      " [ 9 25]]\n",
      "[[14 20]\n",
      " [18 26]]\n"
     ]
    }
   ],
   "source": [
    "# operations on the above arrays\n",
    "arr = arr1 + arr2\n",
    "print(arr)\n",
    "\n",
    "# square\n",
    "arr = arr1**2\n",
    "print(arr)\n",
    "\n",
    "# matrix product\n",
    "matrix = arr1.dot(arr2)\n",
    "print(matrix)"
   ]
  },
  {
   "cell_type": "code",
   "execution_count": 13,
   "id": "9dcf58c9-6b89-49a1-95d2-7584d21fb4d5",
   "metadata": {},
   "outputs": [
    {
     "name": "stdout",
     "output_type": "stream",
     "text": [
      "[[0.871876   0.97991772 0.11770107 0.01669793 0.55707964 0.82394278]\n",
      " [0.1193696  0.13072656 0.0252039  0.06293855 0.92590799 0.64114564]]\n"
     ]
    }
   ],
   "source": [
    "# random genetator\n",
    "rand = np.random.random(12).reshape(2,6)\n",
    "print(rand)"
   ]
  },
  {
   "cell_type": "code",
   "execution_count": 16,
   "id": "d2f9d9a8-e828-4dcf-bdd1-b6acf1bf4da1",
   "metadata": {},
   "outputs": [
    {
     "name": "stdout",
     "output_type": "stream",
     "text": [
      "[[1. 1. 1.]\n",
      " [1. 1. 1.]]\n"
     ]
    }
   ],
   "source": [
    "# USING ONES\n",
    "ones = np.ones(6).reshape(2,3)\n",
    "print(ones)"
   ]
  },
  {
   "cell_type": "code",
   "execution_count": 22,
   "id": "c161e11e-326c-455d-9337-290f52ef573d",
   "metadata": {},
   "outputs": [
    {
     "name": "stdout",
     "output_type": "stream",
     "text": [
      "2\n",
      "[2 4]\n",
      "[2 3]\n"
     ]
    }
   ],
   "source": [
    "# min(), max(), sum(), cumsum()\n",
    "arr1 = np.array([[2,4],[3,5]])\n",
    "arr2 = np.array([[1,2],[3,4]])\n",
    "\n",
    "minItem = arr1.min()\n",
    "print(minItem)\n",
    "\n",
    "minRowItem = arr1.min(axis = 0)\n",
    "print(minRowItem)\n",
    "\n",
    "minColItem = arr1.min(axis = 1)\n",
    "print(minColItem)"
   ]
  },
  {
   "cell_type": "code",
   "execution_count": 30,
   "id": "d8242824-969b-477f-9a97-e94327207d2e",
   "metadata": {},
   "outputs": [
    {
     "name": "stdout",
     "output_type": "stream",
     "text": [
      "10\n",
      "[3 7]\n",
      "[4 6]\n",
      "[ 2  6  9 14]\n",
      "[[2 4]\n",
      " [5 9]]\n",
      "[[2 6]\n",
      " [3 8]]\n"
     ]
    }
   ],
   "source": [
    "# using sum() and cumsum()\n",
    "\n",
    "# sum of all items in the array\n",
    "arr = arr2.sum()\n",
    "print(arr)\n",
    "\n",
    "# sum of all items in each row\n",
    "sumRowItems = arr2.sum(axis = 1)\n",
    "print(sumRowItems)\n",
    "\n",
    "# sum of all items in each col\n",
    "sumColItems = arr2.sum(axis = 0)\n",
    "print(sumColItems)\n",
    "\n",
    "# cumsum()\n",
    "cumSum = arr1.cumsum()\n",
    "print(cumSum)\n",
    "\n",
    "# Cumulating the sum of colums\n",
    "cumColSum = arr1.cumsum(axis = 0)\n",
    "print(cumColSum)\n",
    "\n",
    "# Cumulating the sum of rows\n",
    "cumRowSum = arr1.cumsum(axis = 1)\n",
    "print(cumRowSum)"
   ]
  },
  {
   "cell_type": "code",
   "execution_count": 36,
   "id": "0f538bf0-ea7f-4727-a866-64e5fa4443e3",
   "metadata": {},
   "outputs": [
    {
     "name": "stdout",
     "output_type": "stream",
     "text": [
      "[ 0  1  2  3  4  5  6  7  8  9 10 11 12 13 14]\n",
      "[[ 0  1  2  3  4]\n",
      " [ 5  6  7  8  9]\n",
      " [10 11 12 13 14]]\n",
      "3\n",
      "[10 11 12 13 14]\n",
      "14\n"
     ]
    }
   ],
   "source": [
    "# Indexing, slicing and iterating arrays\n",
    "ind = np.arange(15)\n",
    "print(ind)\n",
    "\n",
    "indtry = np.arange(15).reshape(3, 5)\n",
    "print(indtry)\n",
    "\n",
    "# indexing\n",
    "first = ind[3]\n",
    "print(first)\n",
    "\n",
    "# this returns the third list in the array as an item accessed\n",
    "first = indtry[2]\n",
    "print(first)\n",
    "\n",
    "# to returnn an element in the list above we do this\n",
    "iteminlist = indtry[2, -1] # this returns the last element in the list \n",
    "print(iteminlist)\n",
    "\n",
    "\n"
   ]
  },
  {
   "cell_type": "code",
   "execution_count": 40,
   "id": "d5f93761-cb2c-4b79-88ae-e5399b98ce23",
   "metadata": {},
   "outputs": [
    {
     "name": "stdout",
     "output_type": "stream",
     "text": [
      "The oringinal array: \n",
      "[[ 0  1  2  3  4]\n",
      " [ 5  6  7  8  9]\n",
      " [10 11 12 13 14]]\n",
      "\n",
      "The sliced array:\n",
      "[[5 6 7 8 9]]\n"
     ]
    }
   ],
   "source": [
    "# slicing the array\n",
    "arr = np.arange(15).reshape(3, 5)\n",
    "print(f\"The oringinal array: \\n{arr}\")\n",
    "\n",
    "sliceArray = arr[1:2]\n",
    "print(f\"\\nThe sliced array:\\n{sliceArray}\")"
   ]
  },
  {
   "cell_type": "code",
   "execution_count": 41,
   "id": "000c183d-d830-4804-a989-703a8fa777df",
   "metadata": {},
   "outputs": [
    {
     "name": "stdout",
     "output_type": "stream",
     "text": [
      "[[6 7 8]]\n"
     ]
    }
   ],
   "source": [
    "sliceListItem = arr[1:2, 1:4]\n",
    "print(sliceListItem)"
   ]
  },
  {
   "cell_type": "code",
   "execution_count": 47,
   "id": "eae4745b-7ddd-40ec-9372-0d29662e1f12",
   "metadata": {},
   "outputs": [
    {
     "name": "stdout",
     "output_type": "stream",
     "text": [
      "The oringinal array: \n",
      "[[ 0  1  2  3  4]\n",
      " [ 5  6  7  8  9]\n",
      " [10 11 12 13 14]]\n",
      "\n",
      "The items in the array inclue\n",
      "[0 1 2 3 4]\n",
      "[5 6 7 8 9]\n",
      "[10 11 12 13 14]\n",
      "\n",
      "Breaking futher the array\n",
      "0\n",
      "1\n",
      "2\n",
      "3\n",
      "4\n",
      "5\n",
      "6\n",
      "7\n",
      "8\n",
      "9\n",
      "10\n",
      "11\n",
      "12\n",
      "13\n",
      "14\n",
      "\n",
      "Printing items of the first list in the array\n",
      "0\n",
      "1\n",
      "2\n",
      "3\n",
      "4\n"
     ]
    }
   ],
   "source": [
    "# iterating the lists\n",
    "arr = np.arange(15).reshape(3, 5)\n",
    "print(f\"The oringinal array: \\n{arr}\")\n",
    "\n",
    "print(f\"\\nThe items in the array inclue\")\n",
    "for item in arr:\n",
    "    print(item)\n",
    "\n",
    "print(f\"\\nBreaking futher the array\")\n",
    "for list in arr:\n",
    "    for item in list:\n",
    "        print(item)\n",
    "\n",
    "print(f\"\\nPrinting items of the first list in the array\")\n",
    "for item in arr[0]:\n",
    "    print(item)"
   ]
  },
  {
   "cell_type": "code",
   "execution_count": null,
   "id": "9244394d-620f-433a-8f74-6a21157c7eea",
   "metadata": {},
   "outputs": [],
   "source": []
  }
 ],
 "metadata": {
  "kernelspec": {
   "display_name": "Python 3 (ipykernel)",
   "language": "python",
   "name": "python3"
  },
  "language_info": {
   "codemirror_mode": {
    "name": "ipython",
    "version": 3
   },
   "file_extension": ".py",
   "mimetype": "text/x-python",
   "name": "python",
   "nbconvert_exporter": "python",
   "pygments_lexer": "ipython3",
   "version": "3.12.1"
  }
 },
 "nbformat": 4,
 "nbformat_minor": 5
}
