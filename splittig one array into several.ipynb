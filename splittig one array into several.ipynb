{
 "cells": [
  {
   "cell_type": "code",
   "execution_count": 6,
   "id": "94fe598d-7a0f-400f-b4b2-a7b522be7017",
   "metadata": {},
   "outputs": [
    {
     "name": "stdout",
     "output_type": "stream",
     "text": [
      "[[3. 5. 8. 8. 9. 2. 6. 8. 0. 8. 9. 2.]\n",
      " [9. 2. 3. 6. 3. 1. 3. 7. 3. 7. 7. 0.]]\n"
     ]
    }
   ],
   "source": [
    "import numpy as np\n",
    "rg = np.random\n",
    "\n",
    "a = np.floor(10 * rg.random((2, 12)))\n",
    "print(a)"
   ]
  },
  {
   "cell_type": "code",
   "execution_count": 7,
   "id": "98b3e267-25a1-43a8-9149-082d795b16af",
   "metadata": {},
   "outputs": [
    {
     "name": "stdout",
     "output_type": "stream",
     "text": [
      "[array([[3., 5., 8., 8.],\n",
      "       [9., 2., 3., 6.]]), array([[9., 2., 6., 8.],\n",
      "       [3., 1., 3., 7.]]), array([[0., 8., 9., 2.],\n",
      "       [3., 7., 7., 0.]])]\n"
     ]
    }
   ],
   "source": [
    "# spitting one array into several smaller ones using hsplit()\n",
    "# you can split an array along its horizontal axis, either by \n",
    "# specifying the number of equally shaped arrays\n",
    "# to return, or by specifying the columns after which the division \n",
    "# should occur:\n",
    "\n",
    "horizontalsplit = np.hsplit(a, 3)\n",
    "print(horizontalsplit)\n"
   ]
  },
  {
   "cell_type": "code",
   "execution_count": 8,
   "id": "f44fd31e-1548-4771-b607-6ee13f3a1759",
   "metadata": {},
   "outputs": [
    {
     "name": "stdout",
     "output_type": "stream",
     "text": [
      "[array([[3., 5., 8.],\n",
      "       [9., 2., 3.]]), array([[8.],\n",
      "       [6.]]), array([[9., 2., 6., 8., 0., 8., 9., 2.],\n",
      "       [3., 1., 3., 7., 3., 7., 7., 0.]])]\n"
     ]
    }
   ],
   "source": [
    "# to split a after the third and forth column\n",
    "afterCol = np.hsplit(a, (3,4))\n",
    "print(afterCol)"
   ]
  },
  {
   "cell_type": "code",
   "execution_count": 14,
   "id": "be53d51b-44ce-42e1-8f99-5876e806cc48",
   "metadata": {},
   "outputs": [
    {
     "name": "stdout",
     "output_type": "stream",
     "text": [
      "[array([[3., 5., 8., 8., 9., 2., 6., 8., 0., 8., 9., 2.]]), array([[9., 2., 3., 6., 3., 1., 3., 7., 3., 7., 7., 0.]])]\n"
     ]
    }
   ],
   "source": [
    "# vsplit splits the array along the vertical axis and array_split \n",
    "# allows one to specify along which axis to split\n",
    "\n",
    "verticalsplit = np.vsplit(a, 2)\n",
    "print(verticalsplit)\n"
   ]
  },
  {
   "cell_type": "code",
   "execution_count": null,
   "id": "0d1b8ab5-e1db-46df-aff1-a5f34aeca5aa",
   "metadata": {},
   "outputs": [],
   "source": []
  }
 ],
 "metadata": {
  "kernelspec": {
   "display_name": "Python 3 (ipykernel)",
   "language": "python",
   "name": "python3"
  },
  "language_info": {
   "codemirror_mode": {
    "name": "ipython",
    "version": 3
   },
   "file_extension": ".py",
   "mimetype": "text/x-python",
   "name": "python",
   "nbconvert_exporter": "python",
   "pygments_lexer": "ipython3",
   "version": "3.12.1"
  }
 },
 "nbformat": 4,
 "nbformat_minor": 5
}
