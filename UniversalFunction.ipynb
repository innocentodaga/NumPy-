{
 "cells": [
  {
   "cell_type": "code",
   "execution_count": 15,
   "id": "6faf301d-678b-4b74-b172-770f7c8ff146",
   "metadata": {},
   "outputs": [
    {
     "name": "stdout",
     "output_type": "stream",
     "text": [
      "[0 1 2]\n",
      "[1.         2.71828183 7.3890561 ]\n",
      "[0.         1.         1.41421356]\n",
      "True\n",
      "[0. 1. 2.]\n"
     ]
    }
   ],
   "source": [
    "#===================== Universal Functions =====================#\n",
    "\n",
    "# NumPy provides familiar mathematical functions such as sin, cos, and exp. \n",
    "# In NumPy, these are called “universal functions” (ufunc). Within NumPy, \n",
    "# these functions operate elementwise on an array, producing an array as output\n",
    "import numpy as np\n",
    "B= np.arange(3)\n",
    "print(B)\n",
    "\n",
    "# exponential \n",
    "exp = np.exp(B)\n",
    "print(exp)\n",
    "\n",
    "# square root\n",
    "sqrt = np.sqrt(B)\n",
    "print(sqrt)\n",
    "\n",
    "# trying any function\n",
    "anyfunc = np.any(B)\n",
    "print(anyfunc)\n",
    "\n",
    "# trying any function\n",
    "anyfunc = np.ceil(B)\n",
    "print(anyfunc)\n",
    "\n",
    "# the various functions to look at \n",
    "# all, any, apply_along_axis, argmax, argmin, argsort, average, bincount, ceil, clip, conj,\n",
    "# corrcoef, cov, cross, cumprod, cumsum, diff, dot, floor, inner, invert, lexsort, max, maximum,\n",
    "# mean, median, min, minimum, nonzero, outer, prod, re, round, sort, std, sum, trace, transpose,\n",
    "# var, vdot, vectorize, where\n"
   ]
  },
  {
   "cell_type": "code",
   "execution_count": null,
   "id": "22bd3f8a-f425-4cc0-a3a1-876d3e795a34",
   "metadata": {},
   "outputs": [],
   "source": []
  }
 ],
 "metadata": {
  "kernelspec": {
   "display_name": "Python 3 (ipykernel)",
   "language": "python",
   "name": "python3"
  },
  "language_info": {
   "codemirror_mode": {
    "name": "ipython",
    "version": 3
   },
   "file_extension": ".py",
   "mimetype": "text/x-python",
   "name": "python",
   "nbconvert_exporter": "python",
   "pygments_lexer": "ipython3",
   "version": "3.12.1"
  }
 },
 "nbformat": 4,
 "nbformat_minor": 5
}
