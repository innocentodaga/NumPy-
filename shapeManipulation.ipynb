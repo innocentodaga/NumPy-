{
 "cells": [
  {
   "cell_type": "code",
   "execution_count": 22,
   "id": "12a25883-f82f-4900-86d9-90bcae2bd198",
   "metadata": {},
   "outputs": [
    {
     "name": "stdout",
     "output_type": "stream",
     "text": [
      "\n",
      "This mutliplies the value by 10 then returns the floor(round off to the nearest left)\n",
      "[[8. 5. 8. 5.]\n",
      " [3. 8. 2. 6.]\n",
      " [3. 7. 1. 7.]]\n",
      "\n",
      "Here is the shape of the above:\n",
      "(3, 4)\n"
     ]
    }
   ],
   "source": [
    "import numpy as np\n",
    "\n",
    "# creating random numbers between 0 and 1\n",
    "rg = np.random\n",
    "\n",
    "# This mutliplies the value by 10 then returns the floor(round off to the nearest left)\n",
    "a = np.floor(10 * rg.random((3, 4)))\n",
    "print(f\"\\nThis mutliplies the value by 10 then returns the floor(round off to the nearest left)\\n{a}\")\n",
    "\n",
    "\n",
    "# to get the shape of the above\n",
    "shape = a.shape\n",
    "print(f\"\\nHere is the shape of the above:\\n{shape}\")"
   ]
  },
  {
   "cell_type": "code",
   "execution_count": 28,
   "id": "071422bb-8a2d-4eea-b251-dc7b99fd9289",
   "metadata": {},
   "outputs": [
    {
     "name": "stdout",
     "output_type": "stream",
     "text": [
      "Using ravel: \n",
      "[8. 5. 8. 5. 3. 8. 2. 6. 3. 7. 1. 7.]\n",
      "\n",
      "Using reshape: \n",
      "[[8. 5.]\n",
      " [8. 5.]\n",
      " [3. 8.]\n",
      " [2. 6.]\n",
      " [3. 7.]\n",
      " [1. 7.]]\n",
      "\n",
      "This is a transposed Array:\n",
      "[[8. 3. 3.]\n",
      " [5. 8. 7.]\n",
      " [8. 2. 1.]\n",
      " [5. 6. 7.]]\n"
     ]
    }
   ],
   "source": [
    "# using ravel()\n",
    "raveledArray = a.ravel() # This returns a flattened array (1d array)\n",
    "print(f\"Using ravel: \\n{raveledArray}\\n\")\n",
    "\n",
    "# Using reshape()\n",
    "reshape = a.reshape(6, 2) # This returns an array according to the specified arguments\n",
    "print(f\"Using reshape: \\n{reshape}\")\n",
    "\n",
    "# Using a.T for returning a transposed array(switching the col and row nums)\n",
    "transposed = a.T\n",
    "print(f\"\\nThis is a transposed Array:\\n{transposed}\")\n",
    "\n"
   ]
  },
  {
   "cell_type": "code",
   "execution_count": 32,
   "id": "6cea43ef-a91d-4389-bdce-81eb3f16b80d",
   "metadata": {},
   "outputs": [
    {
     "name": "stdout",
     "output_type": "stream",
     "text": [
      "[[8. 5. 8. 5. 3. 8.]\n",
      " [2. 6. 3. 7. 1. 7.]]\n",
      "\n",
      "The resized array: \n",
      "[[8. 5. 8. 5. 3. 8.]\n",
      " [2. 6. 3. 7. 1. 7.]]\n",
      "[[8. 5. 8. 5.]\n",
      " [3. 8. 2. 6.]\n",
      " [3. 7. 1. 7.]]\n"
     ]
    }
   ],
   "source": [
    "# We can also resize the array using resize()\n",
    "print(a)\n",
    "\n",
    "resize = a.resize((2, 6)) # we can not return the variable resize but we just \n",
    "# call the array a\n",
    "print(f\"\\nThe resized array: \\n{a}\")\n",
    "\n",
    "# If a dimension is given as -1 in a reshaping operation, the other dimensions\n",
    "# are automatically calculated:\n",
    "ara = a.reshape(3, -1)\n",
    "print(ara)\n"
   ]
  },
  {
   "cell_type": "code",
   "execution_count": 42,
   "id": "88b8604e-680e-4397-9319-deca367b65bb",
   "metadata": {},
   "outputs": [
    {
     "name": "stdout",
     "output_type": "stream",
     "text": [
      "[[9. 9.]\n",
      " [5. 8.]]\n",
      "[[1. 3.]\n",
      " [3. 9.]]\n",
      "\n",
      "This creates a single array that vertically stacks array a onto b\n",
      "[[9. 9.]\n",
      " [5. 8.]\n",
      " [1. 3.]\n",
      " [3. 9.]]\n",
      "\n",
      "This creates a single array that horizontally stacks array a onto b\n",
      "[[9. 9. 1. 3.]\n",
      " [5. 8. 3. 9.]]\n"
     ]
    }
   ],
   "source": [
    "# Stacking together different arrays\n",
    "a = np.floor(10* rg.random((2, 2)))\n",
    "print(a)\n",
    "\n",
    "b = np.floor(10 * rg.random((2, 2)))\n",
    "print(b)\n",
    "\n",
    "# using vstack() to vertically stack two arrays together\n",
    "vstack = np.vstack((a, b))\n",
    "print(f\"\\nThis creates a single array that vertically stacks array a onto b\\n{vstack}\")\n",
    "\n",
    "# using vstack() to horizontally stack two arrays together\n",
    "vstack = np.hstack((a, b))\n",
    "print(f\"\\nThis creates a single array that horizontally stacks array a onto b\\n{vstack}\")"
   ]
  },
  {
   "cell_type": "code",
   "execution_count": 43,
   "id": "910513a1-0d1c-44dc-9d60-039a74dde392",
   "metadata": {},
   "outputs": [
    {
     "name": "stdout",
     "output_type": "stream",
     "text": [
      "[[9. 9. 1. 3.]\n",
      " [5. 8. 3. 9.]]\n"
     ]
    }
   ],
   "source": [
    "# using column_stack to stack 2d arrays only\n",
    "stuckArray = np.column_stack((a, b))  # with 2d arrays\n",
    "print(stuckArray)\n"
   ]
  },
  {
   "cell_type": "code",
   "execution_count": 49,
   "id": "f7fd5b70-1cd5-4fbb-a221-b63e176f2563",
   "metadata": {},
   "outputs": [
    {
     "name": "stdout",
     "output_type": "stream",
     "text": [
      "This is a result from column Stack:\n",
      " [[4 3]\n",
      " [2 8]]\n",
      "\n",
      "This is a result from horizontal Stack:\n",
      " [4 2 3 8]\n"
     ]
    }
   ],
   "source": [
    "# Difference between column_stack() and hstack()\n",
    "a = np.array([4, 2])\n",
    "b = np.array([3, 8])\n",
    "\n",
    "colStack = np.column_stack((a, b))\n",
    "print(f\"This is a result from column Stack:\\n {colStack}\\n\")\n",
    "\n",
    "hstack = np.hstack((a, b))\n",
    "print(f\"This is a result from horizontal Stack:\\n {hstack}\")"
   ]
  },
  {
   "cell_type": "code",
   "execution_count": null,
   "id": "3ae4f2c3-5ade-423f-b0e5-f9821a9dda9a",
   "metadata": {},
   "outputs": [],
   "source": []
  }
 ],
 "metadata": {
  "kernelspec": {
   "display_name": "Python 3 (ipykernel)",
   "language": "python",
   "name": "python3"
  },
  "language_info": {
   "codemirror_mode": {
    "name": "ipython",
    "version": 3
   },
   "file_extension": ".py",
   "mimetype": "text/x-python",
   "name": "python",
   "nbconvert_exporter": "python",
   "pygments_lexer": "ipython3",
   "version": "3.12.1"
  }
 },
 "nbformat": 4,
 "nbformat_minor": 5
}
