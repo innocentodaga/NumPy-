{
 "cells": [
  {
   "cell_type": "markdown",
   "id": "a5d0ca02-b64e-4e16-9947-b620f951183e",
   "metadata": {},
   "source": [
    "# The normal python array list "
   ]
  },
  {
   "cell_type": "code",
   "execution_count": 4,
   "id": "10ccf3e1-850b-4417-b8f4-680b52d2b1d7",
   "metadata": {},
   "outputs": [],
   "source": [
    "a = [1,2,3,4,5]\n",
    "b = [10, 11,12,13,14]\n"
   ]
  },
  {
   "cell_type": "code",
   "execution_count": 5,
   "id": "98962c91-3934-4019-a02d-2dc00471073d",
   "metadata": {},
   "outputs": [
    {
     "data": {
      "text/plain": [
       "[1, 2, 3, 4, 5, 10, 11, 12, 13, 14]"
      ]
     },
     "execution_count": 5,
     "metadata": {},
     "output_type": "execute_result"
    }
   ],
   "source": [
    "a + b"
   ]
  },
  {
   "cell_type": "code",
   "execution_count": 6,
   "id": "3d48e495-6141-4bba-8306-8d9e6d0af6f5",
   "metadata": {},
   "outputs": [
    {
     "data": {
      "text/plain": [
       "[11, 13, 15, 17, 19]"
      ]
     },
     "execution_count": 6,
     "metadata": {},
     "output_type": "execute_result"
    }
   ],
   "source": [
    "result = []\n",
    "for first, second in zip(a, b):\n",
    "    result.append(first + second)\n",
    "\n",
    "result"
   ]
  },
  {
   "cell_type": "markdown",
   "id": "343f66e2-cbc9-4a13-9580-addb2ae3e662",
   "metadata": {},
   "source": [
    "# The tutorial of numpy"
   ]
  },
  {
   "cell_type": "code",
   "execution_count": 8,
   "id": "2ee53af4-63d1-4e31-b79a-6331a8de13c3",
   "metadata": {},
   "outputs": [],
   "source": [
    "import numpy as np"
   ]
  },
  {
   "cell_type": "code",
   "execution_count": 9,
   "id": "ea5c595a-9f6e-4603-938c-87718583739d",
   "metadata": {},
   "outputs": [
    {
     "data": {
      "text/plain": [
       "numpy.ndarray"
      ]
     },
     "execution_count": 9,
     "metadata": {},
     "output_type": "execute_result"
    }
   ],
   "source": [
    "a = np.array([1, 2, 3, 4])\n",
    "type(a)"
   ]
  },
  {
   "cell_type": "code",
   "execution_count": 11,
   "id": "52b6762f-27a1-4552-93b6-a1b1f8add833",
   "metadata": {},
   "outputs": [
    {
     "data": {
      "text/plain": [
       "dtype('int32')"
      ]
     },
     "execution_count": 11,
     "metadata": {},
     "output_type": "execute_result"
    }
   ],
   "source": [
    "a.dtype"
   ]
  },
  {
   "cell_type": "code",
   "execution_count": 12,
   "id": "5e35c8e0-eec0-49ed-aae1-33b761ff9bc6",
   "metadata": {},
   "outputs": [
    {
     "data": {
      "text/plain": [
       "dtype('float64')"
      ]
     },
     "execution_count": 12,
     "metadata": {},
     "output_type": "execute_result"
    }
   ],
   "source": [
    "f = np.array([1.2, 2.3, 4.5, 5.6])\n",
    "f.dtype"
   ]
  },
  {
   "cell_type": "code",
   "execution_count": 13,
   "id": "6813a500-475f-411a-bd10-2ff406f057ad",
   "metadata": {},
   "outputs": [],
   "source": [
    "# assigning an array \n",
    "a[0] = 10"
   ]
  },
  {
   "cell_type": "code",
   "execution_count": 14,
   "id": "977cb045-450e-4ce3-8a00-4f6be7bab003",
   "metadata": {},
   "outputs": [
    {
     "data": {
      "text/plain": [
       "array([10,  2,  3,  4])"
      ]
     },
     "execution_count": 14,
     "metadata": {},
     "output_type": "execute_result"
    }
   ],
   "source": [
    "a"
   ]
  },
  {
   "cell_type": "code",
   "execution_count": 16,
   "id": "074963d7-d8cf-47e4-bcdc-5782c0e171b5",
   "metadata": {},
   "outputs": [
    {
     "data": {
      "text/plain": [
       "1"
      ]
     },
     "execution_count": 16,
     "metadata": {},
     "output_type": "execute_result"
    }
   ],
   "source": [
    "# the number of dimensions\n",
    "a.ndim"
   ]
  },
  {
   "cell_type": "code",
   "execution_count": 18,
   "id": "31b7e8ae-37f7-449f-b7ae-6e1a8458afc8",
   "metadata": {},
   "outputs": [
    {
     "data": {
      "text/plain": [
       "(4,)"
      ]
     },
     "execution_count": 18,
     "metadata": {},
     "output_type": "execute_result"
    }
   ],
   "source": [
    "# Size of the array\n",
    "a.shape"
   ]
  },
  {
   "cell_type": "code",
   "execution_count": 19,
   "id": "8536b1db-ba6e-49a1-8a45-ab9a91928420",
   "metadata": {},
   "outputs": [
    {
     "data": {
      "text/plain": [
       "4"
      ]
     },
     "execution_count": 19,
     "metadata": {},
     "output_type": "execute_result"
    }
   ],
   "source": [
    "# the total number of elements in the array\n",
    "a.size"
   ]
  },
  {
   "cell_type": "code",
   "execution_count": 20,
   "id": "97e4768f-80b0-4c51-88fa-2d7ed62cd7ea",
   "metadata": {},
   "outputs": [
    {
     "data": {
      "text/plain": [
       "array([10,  2,  3,  4])"
      ]
     },
     "execution_count": 20,
     "metadata": {},
     "output_type": "execute_result"
    }
   ],
   "source": [
    "a"
   ]
  },
  {
   "cell_type": "code",
   "execution_count": 21,
   "id": "32dc22b3-a1f3-4f65-9dc3-37496d8bf012",
   "metadata": {},
   "outputs": [
    {
     "data": {
      "text/plain": [
       "[10, 11, 12, 13, 14]"
      ]
     },
     "execution_count": 21,
     "metadata": {},
     "output_type": "execute_result"
    }
   ],
   "source": [
    "b"
   ]
  },
  {
   "cell_type": "code",
   "execution_count": 25,
   "id": "20036a96-a30e-4f0e-836d-5bb1f2589e36",
   "metadata": {},
   "outputs": [
    {
     "data": {
      "text/plain": [
       "array([11.2,  4.3,  7.5,  9.6])"
      ]
     },
     "execution_count": 25,
     "metadata": {},
     "output_type": "execute_result"
    }
   ],
   "source": [
    "a + f"
   ]
  },
  {
   "cell_type": "code",
   "execution_count": 26,
   "id": "48725909-c635-4ecf-a517-beedb1bd9d2c",
   "metadata": {},
   "outputs": [
    {
     "data": {
      "text/plain": [
       "array([11.2,  4.3,  7.5,  9.6])"
      ]
     },
     "execution_count": 26,
     "metadata": {},
     "output_type": "execute_result"
    }
   ],
   "source": [
    "# Adding elements of different arrays\n",
    "a + f"
   ]
  },
  {
   "cell_type": "code",
   "execution_count": 27,
   "id": "ec330f2e-3b80-494e-a86a-bf2ebf87a73b",
   "metadata": {},
   "outputs": [
    {
     "data": {
      "text/plain": [
       "array([  6.19173642,   5.29      ,  91.125     , 983.4496    ])"
      ]
     },
     "execution_count": 27,
     "metadata": {},
     "output_type": "execute_result"
    }
   ],
   "source": [
    "# Multiplying  arrays\n",
    "f ** a"
   ]
  },
  {
   "cell_type": "markdown",
   "id": "35b85242-43ec-4a20-a217-2c90113203a8",
   "metadata": {},
   "source": [
    "# Universal functions (ufuncs)"
   ]
  },
  {
   "cell_type": "code",
   "execution_count": 28,
   "id": "2a6666ef-041c-4dc4-a9f9-1cc160170f8b",
   "metadata": {},
   "outputs": [
    {
     "data": {
      "text/plain": [
       "array([-0.54402111,  0.90929743,  0.14112001, -0.7568025 ])"
      ]
     },
     "execution_count": 28,
     "metadata": {},
     "output_type": "execute_result"
    }
   ],
   "source": [
    "np.sin(a)"
   ]
  },
  {
   "cell_type": "markdown",
   "id": "8e5d50c4-71a2-4b82-94e5-e2af1ca2e0a7",
   "metadata": {},
   "source": [
    " # MultiDimensional Arrays"
   ]
  },
  {
   "cell_type": "code",
   "execution_count": 30,
   "id": "87cb3888-7bc4-4989-b3e6-e06603d2cf8c",
   "metadata": {},
   "outputs": [],
   "source": [
    "a = np.array([[0, 1,2,3,4], [10, 11,12,13,14]])"
   ]
  },
  {
   "cell_type": "code",
   "execution_count": 31,
   "id": "4a007afd-a657-4786-9620-7b9bae62691e",
   "metadata": {},
   "outputs": [
    {
     "data": {
      "text/plain": [
       "array([[ 0,  1,  2,  3,  4],\n",
       "       [10, 11, 12, 13, 14]])"
      ]
     },
     "execution_count": 31,
     "metadata": {},
     "output_type": "execute_result"
    }
   ],
   "source": [
    "a"
   ]
  },
  {
   "cell_type": "code",
   "execution_count": 33,
   "id": "fcfa2124-fbf6-41fc-a652-ea809cef68b1",
   "metadata": {},
   "outputs": [
    {
     "data": {
      "text/plain": [
       "(2, 5)"
      ]
     },
     "execution_count": 33,
     "metadata": {},
     "output_type": "execute_result"
    }
   ],
   "source": [
    "a.shape"
   ]
  },
  {
   "cell_type": "code",
   "execution_count": 34,
   "id": "f6c23ca6-f70a-4650-9d35-4dcab2859d7b",
   "metadata": {},
   "outputs": [
    {
     "data": {
      "text/plain": [
       "10"
      ]
     },
     "execution_count": 34,
     "metadata": {},
     "output_type": "execute_result"
    }
   ],
   "source": [
    "a.size"
   ]
  },
  {
   "cell_type": "markdown",
   "id": "922ffa01-cd06-4cde-8414-80736c7d68a9",
   "metadata": {},
   "source": [
    "# Get or set the elements"
   ]
  },
  {
   "cell_type": "code",
   "execution_count": 37,
   "id": "567054f1-9c07-4281-af5d-3adac3afd19e",
   "metadata": {},
   "outputs": [
    {
     "data": {
      "text/plain": [
       "13"
      ]
     },
     "execution_count": 37,
     "metadata": {},
     "output_type": "execute_result"
    }
   ],
   "source": [
    "# Getting the elements\n",
    "a[1, 3]"
   ]
  },
  {
   "cell_type": "code",
   "execution_count": 38,
   "id": "70e1fa64-d656-4673-a9a5-b0cd5ff46f94",
   "metadata": {},
   "outputs": [],
   "source": [
    "# Setting the elements to a specific place\n",
    "a[1, 3] = -1"
   ]
  },
  {
   "cell_type": "code",
   "execution_count": 39,
   "id": "cd8514f3-28bb-4911-9325-1bc4220b770d",
   "metadata": {},
   "outputs": [
    {
     "data": {
      "text/plain": [
       "array([[ 0,  1,  2,  3,  4],\n",
       "       [10, 11, 12, -1, 14]])"
      ]
     },
     "execution_count": 39,
     "metadata": {},
     "output_type": "execute_result"
    }
   ],
   "source": [
    "a"
   ]
  },
  {
   "cell_type": "code",
   "execution_count": 40,
   "id": "d8fb47fe-8adc-4ab8-8834-1f28faef1b88",
   "metadata": {},
   "outputs": [
    {
     "data": {
      "text/plain": [
       "array([10, 11, 12, -1, 14])"
      ]
     },
     "execution_count": 40,
     "metadata": {},
     "output_type": "execute_result"
    }
   ],
   "source": [
    "a[1]"
   ]
  },
  {
   "cell_type": "markdown",
   "id": "a55f6a97-06ba-49b7-a15f-67d5d7c6d453",
   "metadata": {},
   "source": [
    "# Getting the dimensions of the array"
   ]
  },
  {
   "cell_type": "code",
   "execution_count": 36,
   "id": "6f739576-6f06-4e56-aa56-3591b137797e",
   "metadata": {},
   "outputs": [
    {
     "data": {
      "text/plain": [
       "2"
      ]
     },
     "execution_count": 36,
     "metadata": {},
     "output_type": "execute_result"
    }
   ],
   "source": [
    "a.ndim"
   ]
  },
  {
   "cell_type": "markdown",
   "id": "3c5470ed-911f-4a4c-a978-700bb558357b",
   "metadata": {},
   "source": [
    "## Numpy indexing and slicing\n",
    "\n",
    "array_name[lower: upper: steps to stride]"
   ]
  },
  {
   "cell_type": "code",
   "execution_count": 43,
   "id": "5246657c-7950-49bb-8955-f31c230a52c7",
   "metadata": {},
   "outputs": [],
   "source": [
    "a = [10, 11, 12, -1, 14]"
   ]
  },
  {
   "cell_type": "code",
   "execution_count": 44,
   "id": "32c821d4-2428-40ed-a02c-ca835328ed27",
   "metadata": {},
   "outputs": [
    {
     "data": {
      "text/plain": [
       "[10, 11, 12, -1, 14]"
      ]
     },
     "execution_count": 44,
     "metadata": {},
     "output_type": "execute_result"
    }
   ],
   "source": [
    "a"
   ]
  },
  {
   "cell_type": "code",
   "execution_count": 45,
   "id": "83c4802a-9400-40a4-914b-98116d88b174",
   "metadata": {},
   "outputs": [
    {
     "data": {
      "text/plain": [
       "[11, 12]"
      ]
     },
     "execution_count": 45,
     "metadata": {},
     "output_type": "execute_result"
    }
   ],
   "source": [
    "a[1:3]"
   ]
  },
  {
   "cell_type": "markdown",
   "id": "956b11d0-5347-4eba-b13d-87b9e8d1bc8a",
   "metadata": {},
   "source": [
    "# Negative indices work\n",
    "-1 is always the last element of the sequence"
   ]
  },
  {
   "cell_type": "code",
   "execution_count": 47,
   "id": "1cab9990-de60-4e3c-8c2c-8870b3f732bb",
   "metadata": {},
   "outputs": [
    {
     "data": {
      "text/plain": [
       "[11, 12]"
      ]
     },
     "execution_count": 47,
     "metadata": {},
     "output_type": "execute_result"
    }
   ],
   "source": [
    "a[1:-2] # This returns the second element and the third last element"
   ]
  },
  {
   "cell_type": "code",
   "execution_count": 48,
   "id": "cbb81327-00b1-4881-a769-917d1c38b01e",
   "metadata": {},
   "outputs": [
    {
     "data": {
      "text/plain": [
       "[11, 12]"
      ]
     },
     "execution_count": 48,
     "metadata": {},
     "output_type": "execute_result"
    }
   ],
   "source": [
    "a[-4:3]"
   ]
  },
  {
   "cell_type": "markdown",
   "id": "d714b1ba-c37a-4139-a959-a864b331a6ba",
   "metadata": {},
   "source": [
    "# Omitting indices\n",
    "omitted boundaries are assumed to be te beginning or end of the list"
   ]
  },
  {
   "cell_type": "code",
   "execution_count": 49,
   "id": "ac3aeeb8-153a-4175-b60d-8326b67d7154",
   "metadata": {},
   "outputs": [
    {
     "data": {
      "text/plain": [
       "[10, 11, 12]"
      ]
     },
     "execution_count": 49,
     "metadata": {},
     "output_type": "execute_result"
    }
   ],
   "source": [
    "a[:3]"
   ]
  },
  {
   "cell_type": "code",
   "execution_count": 50,
   "id": "c0274d60-b6ba-4c2f-93aa-caf8cc3d48ee",
   "metadata": {},
   "outputs": [
    {
     "data": {
      "text/plain": [
       "[-1, 14]"
      ]
     },
     "execution_count": 50,
     "metadata": {},
     "output_type": "execute_result"
    }
   ],
   "source": [
    "# grab the last two elements\n",
    "a[-2:]"
   ]
  },
  {
   "cell_type": "markdown",
   "id": "458b35bf-a589-458d-8526-5aa0b0d18388",
   "metadata": {},
   "source": [
    "# specifying some columns while eliminating evry other element"
   ]
  },
  {
   "cell_type": "code",
   "execution_count": 52,
   "id": "06de0663-a1ba-406c-b262-30bb7e266ef9",
   "metadata": {},
   "outputs": [
    {
     "data": {
      "text/plain": [
       "[10, 12, 14]"
      ]
     },
     "execution_count": 52,
     "metadata": {},
     "output_type": "execute_result"
    }
   ],
   "source": [
    "# Go from the begining to the endt but just picking every other element\n",
    "a[::2]"
   ]
  },
  {
   "cell_type": "markdown",
   "id": "02d3d744-0705-40bb-94c8-531dcc818362",
   "metadata": {},
   "source": [
    "# Array Slicing\n",
    "Slicing and indezing at the same time"
   ]
  },
  {
   "cell_type": "code",
   "execution_count": 55,
   "id": "51399557-f6ed-4a39-bb9c-6147676b3c39",
   "metadata": {},
   "outputs": [
    {
     "data": {
      "text/plain": [
       "array([1, 2])"
      ]
     },
     "execution_count": 55,
     "metadata": {},
     "output_type": "execute_result"
    }
   ],
   "source": [
    "# Go to the first row and pick the second and the 3rd element\n",
    "a = a = np.array([[0, 1,2,3,4], [10, 11,12,13,14]])\n",
    "a[0, 1:3]"
   ]
  },
  {
   "cell_type": "code",
   "execution_count": 57,
   "id": "f4a8f1c6-aa34-4bbc-bbe7-63549926e19e",
   "metadata": {},
   "outputs": [
    {
     "data": {
      "text/plain": [
       "array([[14]])"
      ]
     },
     "execution_count": 57,
     "metadata": {},
     "output_type": "execute_result"
    }
   ],
   "source": [
    "a[1:, 4:]"
   ]
  },
  {
   "cell_type": "code",
   "execution_count": 58,
   "id": "502eebc6-dd79-4e98-ae0f-675b81883e75",
   "metadata": {},
   "outputs": [
    {
     "data": {
      "text/plain": [
       "array([ 2, 12])"
      ]
     },
     "execution_count": 58,
     "metadata": {},
     "output_type": "execute_result"
    }
   ],
   "source": [
    "# Returns the specific column from all rows\n",
    "a[:, 2]"
   ]
  },
  {
   "cell_type": "markdown",
   "id": "7e7ed182-1545-4d65-b27d-12cb18aeb216",
   "metadata": {},
   "source": [
    "# Strides\n",
    "Utilizing strides to access values in the array"
   ]
  },
  {
   "cell_type": "code",
   "execution_count": 61,
   "id": "f534163b-15fa-4bfc-8e52-0741dc3baff4",
   "metadata": {},
   "outputs": [
    {
     "data": {
      "text/plain": [
       "array([[10, 12, 14]])"
      ]
     },
     "execution_count": 61,
     "metadata": {},
     "output_type": "execute_result"
    }
   ],
   "source": [
    "# This returns the first row with the strides of two and all columns\n",
    "# with The steps of two\n",
    "\n",
    "a[1::2, ::2]"
   ]
  },
  {
   "cell_type": "code",
   "execution_count": 62,
   "id": "1db4e1a2-f2a1-4926-be3f-a3b223d26b39",
   "metadata": {},
   "outputs": [],
   "source": [
    "# Creating an array using arange and reshape\n",
    "a = np.arange(25).reshape(5, 5)"
   ]
  },
  {
   "cell_type": "code",
   "execution_count": 63,
   "id": "83f5dfaf-f04a-4dfe-9040-d49da22a982f",
   "metadata": {},
   "outputs": [
    {
     "data": {
      "text/plain": [
       "array([[ 0,  1,  2,  3,  4],\n",
       "       [ 5,  6,  7,  8,  9],\n",
       "       [10, 11, 12, 13, 14],\n",
       "       [15, 16, 17, 18, 19],\n",
       "       [20, 21, 22, 23, 24]])"
      ]
     },
     "execution_count": 63,
     "metadata": {},
     "output_type": "execute_result"
    }
   ],
   "source": [
    "a"
   ]
  },
  {
   "cell_type": "code",
   "execution_count": 64,
   "id": "8d37aeda-74bc-45bc-b8d8-d364604ce053",
   "metadata": {},
   "outputs": [
    {
     "data": {
      "text/plain": [
       "array([[ 1,  3],\n",
       "       [ 6,  8],\n",
       "       [11, 13],\n",
       "       [16, 18],\n",
       "       [21, 23]])"
      ]
     },
     "execution_count": 64,
     "metadata": {},
     "output_type": "execute_result"
    }
   ],
   "source": [
    "# Returning only the two columns\n",
    "a[:, 1::2]"
   ]
  },
  {
   "cell_type": "code",
   "execution_count": 66,
   "id": "29b5dfcf-e026-447a-9904-79f11b33686b",
   "metadata": {},
   "outputs": [
    {
     "data": {
      "text/plain": [
       "array([[20, 21, 22, 23, 24]])"
      ]
     },
     "execution_count": 66,
     "metadata": {},
     "output_type": "execute_result"
    }
   ],
   "source": [
    "# Retruning the last row\n",
    "a[4:, :]"
   ]
  },
  {
   "cell_type": "code",
   "execution_count": 68,
   "id": "f3d81adb-c96f-4223-a064-3c40e4f6fd27",
   "metadata": {},
   "outputs": [
    {
     "data": {
      "text/plain": [
       "array([[ 5,  7],\n",
       "       [15, 17]])"
      ]
     },
     "execution_count": 68,
     "metadata": {},
     "output_type": "execute_result"
    }
   ],
   "source": [
    "# returning the second and forth row with a step of 2 and the first \n",
    "# and third column with steps of two \n",
    "a[1::2, :3:2]"
   ]
  },
  {
   "cell_type": "code",
   "execution_count": null,
   "id": "31cf9482-2bb5-4ec7-976b-9203d82591e6",
   "metadata": {},
   "outputs": [],
   "source": []
  }
 ],
 "metadata": {
  "kernelspec": {
   "display_name": "Python 3 (ipykernel)",
   "language": "python",
   "name": "python3"
  },
  "language_info": {
   "codemirror_mode": {
    "name": "ipython",
    "version": 3
   },
   "file_extension": ".py",
   "mimetype": "text/x-python",
   "name": "python",
   "nbconvert_exporter": "python",
   "pygments_lexer": "ipython3",
   "version": "3.12.5"
  }
 },
 "nbformat": 4,
 "nbformat_minor": 5
}
