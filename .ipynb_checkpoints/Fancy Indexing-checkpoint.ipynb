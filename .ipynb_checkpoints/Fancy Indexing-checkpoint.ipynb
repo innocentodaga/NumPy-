{
 "cells": [
  {
   "cell_type": "markdown",
   "id": "8e5cbcad-f892-4718-b563-3ba44820cd18",
   "metadata": {},
   "source": [
    "# Fancy Indexing\n",
    "\n",
    "indexing by postion and indexing by value or booleans\n"
   ]
  },
  {
   "cell_type": "code",
   "execution_count": 22,
   "id": "0fd6db4c-99da-46c9-986c-1d27f97a52be",
   "metadata": {},
   "outputs": [],
   "source": [
    "import numpy as np"
   ]
  },
  {
   "cell_type": "code",
   "execution_count": 23,
   "id": "040d4df3-b8a2-4ecc-946b-1135de6bb2d3",
   "metadata": {},
   "outputs": [],
   "source": [
    "a = np.arange(0, 80, 10)"
   ]
  },
  {
   "cell_type": "code",
   "execution_count": 24,
   "id": "12a26c67-7870-4c88-9e6a-d4cbd70fe325",
   "metadata": {},
   "outputs": [
    {
     "data": {
      "text/plain": [
       "array([ 0, 10, 20, 30, 40, 50, 60, 70])"
      ]
     },
     "execution_count": 24,
     "metadata": {},
     "output_type": "execute_result"
    }
   ],
   "source": [
    "a"
   ]
  },
  {
   "cell_type": "code",
   "execution_count": 25,
   "id": "3bc8f372-5302-4324-83a8-1795f02814b5",
   "metadata": {},
   "outputs": [],
   "source": [
    "# Getting multiple values at certain indicies\n",
    "indicies = [1, 2, -3]\n",
    "y = a[indicies]"
   ]
  },
  {
   "cell_type": "code",
   "execution_count": 26,
   "id": "4a4cc3fc-92d9-4dfe-bb66-e5fd4b3f2b17",
   "metadata": {},
   "outputs": [
    {
     "name": "stdout",
     "output_type": "stream",
     "text": [
      "[10 20 50]\n"
     ]
    }
   ],
   "source": [
    "print(y)"
   ]
  },
  {
   "cell_type": "code",
   "execution_count": 27,
   "id": "ab472266-bd2f-40a0-8ed7-3386f6a13ddc",
   "metadata": {},
   "outputs": [
    {
     "data": {
      "text/plain": [
       "array([ 0, 99, 99, 30, 40, 99, 60, 70])"
      ]
     },
     "execution_count": 27,
     "metadata": {},
     "output_type": "execute_result"
    }
   ],
   "source": [
    "# Setting a single value for multiple values\n",
    "a[indicies] = 99\n",
    "a"
   ]
  },
  {
   "cell_type": "code",
   "execution_count": 28,
   "id": "16199f44-32ae-480a-b9a7-4a03718ec00e",
   "metadata": {},
   "outputs": [],
   "source": [
    "# Boolean Indexing, manual creation of masks\n",
    "# This returns only data that has a boolean value o f1\n",
    "mask = np.array(\n",
    "    [0, 1, 1, 0, 0, 1, 0, 1],\n",
    "    dtype = bool\n",
    ")"
   ]
  },
  {
   "cell_type": "code",
   "execution_count": 29,
   "id": "d3d593af-b6ca-4adc-a486-fc58b5cfa418",
   "metadata": {},
   "outputs": [
    {
     "name": "stdout",
     "output_type": "stream",
     "text": [
      "[99 99 99 70]\n"
     ]
    }
   ],
   "source": [
    "# fancy indexing \n",
    "y = a[mask]\n",
    "print(y)"
   ]
  },
  {
   "cell_type": "code",
   "execution_count": 30,
   "id": "6879d294-4230-464d-b820-a74c5d1381a4",
   "metadata": {},
   "outputs": [
    {
     "data": {
      "text/plain": [
       "array([-1, -3, -6])"
      ]
     },
     "execution_count": 30,
     "metadata": {},
     "output_type": "execute_result"
    }
   ],
   "source": [
    "b = np.array([-1, -3, 1, 4, -6, 9, 3])\n",
    "\n",
    "# Threshold\n",
    "# identifying data that is negative\n",
    "negative = b < 0 # this returns bool of data that is negative or less than one\n",
    "\n",
    "# Getting items that are negative (less than the above equation or condition)\n",
    "b[negative]"
   ]
  },
  {
   "cell_type": "code",
   "execution_count": 31,
   "id": "d6c06139-9639-44c2-a3b3-74025f1988d8",
   "metadata": {},
   "outputs": [
    {
     "data": {
      "text/plain": [
       "array([0, 0, 1, 4, 0, 9, 3])"
      ]
     },
     "execution_count": 31,
     "metadata": {},
     "output_type": "execute_result"
    }
   ],
   "source": [
    "# Setting all the data that is below 0 i.e negative with a 0\n",
    "b[negative] = 0\n",
    "b"
   ]
  },
  {
   "cell_type": "markdown",
   "id": "0ad13dd7-7386-4c49-ba67-3bc0fed2a431",
   "metadata": {},
   "source": [
    "# Fancy Indexing in 2D"
   ]
  },
  {
   "cell_type": "code",
   "execution_count": 53,
   "id": "39c7820c-8d3e-4364-9e3b-7481443b01b2",
   "metadata": {},
   "outputs": [
    {
     "data": {
      "text/plain": [
       "array([[ 0,  1,  2,  3,  4,  5,  6,  7,  8,  9],\n",
       "       [10, 11, 12, 13, 14, 15, 16, 17, 18, 19],\n",
       "       [20, 21, 22, 23, 24, 25, 26, 27, 28, 29],\n",
       "       [30, 31, 32, 33, 34, 35, 36, 37, 38, 39],\n",
       "       [40, 41, 42, 43, 44, 45, 46, 47, 48, 49],\n",
       "       [50, 51, 52, 53, 54, 55, 56, 57, 58, 59]])"
      ]
     },
     "execution_count": 53,
     "metadata": {},
     "output_type": "execute_result"
    }
   ],
   "source": [
    "a = np.arange(0, 60).reshape(6, 10)\n",
    "a"
   ]
  },
  {
   "cell_type": "code",
   "execution_count": 55,
   "id": "c81f599c-091d-4715-95f9-c69d04852fca",
   "metadata": {},
   "outputs": [
    {
     "data": {
      "text/plain": [
       "array([ 1, 12, 23, 34, 45])"
      ]
     },
     "execution_count": 55,
     "metadata": {},
     "output_type": "execute_result"
    }
   ],
   "source": [
    "# how to get an a-diagonal using indexing\n",
    "# this can be visualized interns of coodinates\n",
    "# top-bottom order for the first element and so on\n",
    "a[[0, 1, 2, 3, 4], \n",
    "   [1, 2, 3, 4, 5]]"
   ]
  },
  {
   "cell_type": "code",
   "execution_count": 57,
   "id": "2735c40a-3b3e-4062-80ea-f25bc50f8bfd",
   "metadata": {},
   "outputs": [
    {
     "data": {
      "text/plain": [
       "array([[30, 32, 35],\n",
       "       [40, 42, 45],\n",
       "       [50, 52, 55]])"
      ]
     },
     "execution_count": 57,
     "metadata": {},
     "output_type": "execute_result"
    }
   ],
   "source": [
    "# using a list to specify columns needed to be extracted\n",
    "a[3:, [0, 2, 5]]"
   ]
  },
  {
   "cell_type": "code",
   "execution_count": 62,
   "id": "ab13a2ee-3115-4514-a4fd-126cb9ce4470",
   "metadata": {},
   "outputs": [
    {
     "data": {
      "text/plain": [
       "array([[ 1,  3,  8],\n",
       "       [11, 13, 18],\n",
       "       [21, 23, 28],\n",
       "       [31, 33, 38]])"
      ]
     },
     "execution_count": 62,
     "metadata": {},
     "output_type": "execute_result"
    }
   ],
   "source": [
    "a[:-2, [1, 3, -2]]"
   ]
  },
  {
   "cell_type": "code",
   "execution_count": 65,
   "id": "3abc0685-2c81-4e54-8edf-25056f7ed224",
   "metadata": {},
   "outputs": [],
   "source": [
    "# masking with regular indexing \n",
    "mask = np.array([1, 0, 1, 0, 0, 1], bool) # This returns the 1st item, 3rd and last item"
   ]
  },
  {
   "cell_type": "code",
   "execution_count": 67,
   "id": "7940ec7a-91e5-453b-a3e3-71fc1651d15c",
   "metadata": {},
   "outputs": [
    {
     "data": {
      "text/plain": [
       "array([ 2, 22, 52])"
      ]
     },
     "execution_count": 67,
     "metadata": {},
     "output_type": "execute_result"
    }
   ],
   "source": [
    "# we obtain the first row, third and last rows\n",
    "a[mask, 2] "
   ]
  },
  {
   "cell_type": "markdown",
   "id": "20e97992-a806-43b2-9725-c508e57e3943",
   "metadata": {},
   "source": [
    "### Giving it a try!\n",
    "1. Create the array below with a = np.arange(25).reshape(5, 5). Extract the elements indicated in blue."
   ]
  },
  {
   "cell_type": "code",
   "execution_count": 68,
   "id": "9e36b0b0-37ec-41a2-816b-75c4e2286b10",
   "metadata": {},
   "outputs": [],
   "source": [
    "a = np.arange(25).reshape(5, 5)"
   ]
  },
  {
   "cell_type": "code",
   "execution_count": 69,
   "id": "0cc11da4-a735-4649-a735-ac7b9e75b379",
   "metadata": {},
   "outputs": [
    {
     "data": {
      "text/plain": [
       "array([[ 0,  1,  2,  3,  4],\n",
       "       [ 5,  6,  7,  8,  9],\n",
       "       [10, 11, 12, 13, 14],\n",
       "       [15, 16, 17, 18, 19],\n",
       "       [20, 21, 22, 23, 24]])"
      ]
     },
     "execution_count": 69,
     "metadata": {},
     "output_type": "execute_result"
    }
   ],
   "source": [
    "a"
   ]
  },
  {
   "cell_type": "code",
   "execution_count": 74,
   "id": "94050b73-f3fc-434b-ac45-b7c9d162204c",
   "metadata": {},
   "outputs": [],
   "source": [
    "row = np.array([1, 0, 1, 1, 0], bool)\n",
    "col = np.array([0, 1, 1, 1, 1], bool)"
   ]
  },
  {
   "cell_type": "code",
   "execution_count": 78,
   "id": "799b7a73-bfa2-4422-bb2c-c44fbdbd6350",
   "metadata": {},
   "outputs": [
    {
     "data": {
      "text/plain": [
       "array([[ 0,  1,  2,  3,  4],\n",
       "       [10, 11, 12, 13, 14],\n",
       "       [15, 16, 17, 18, 19],\n",
       "       [20, 21, 22, 23, 24]])"
      ]
     },
     "execution_count": 78,
     "metadata": {},
     "output_type": "execute_result"
    }
   ],
   "source": [
    "a[[0, 2, 3,4]]"
   ]
  },
  {
   "cell_type": "code",
   "execution_count": null,
   "id": "03b82320-202b-478d-991c-3d66e1c4d984",
   "metadata": {},
   "outputs": [],
   "source": []
  }
 ],
 "metadata": {
  "kernelspec": {
   "display_name": "Python 3 (ipykernel)",
   "language": "python",
   "name": "python3"
  },
  "language_info": {
   "codemirror_mode": {
    "name": "ipython",
    "version": 3
   },
   "file_extension": ".py",
   "mimetype": "text/x-python",
   "name": "python",
   "nbconvert_exporter": "python",
   "pygments_lexer": "ipython3",
   "version": "3.12.5"
  }
 },
 "nbformat": 4,
 "nbformat_minor": 5
}
