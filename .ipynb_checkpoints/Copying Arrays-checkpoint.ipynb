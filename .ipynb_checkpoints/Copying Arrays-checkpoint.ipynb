{
 "cells": [
  {
   "cell_type": "markdown",
   "id": "1537fd94-0309-4321-a467-7e6e7afccbe2",
   "metadata": {},
   "source": [
    "### Copying numpy arrays\n",
    "* using `numpy.copy()`\n",
    "  * `copy(obj, order='K')`\n",
    "* Return an array copy of a given object 'obj'\n",
    "* The possible values are {'C', 'F', 'A', 'K'}.\n",
    "* This parameter controls the memory layout of the copy.\n",
    "* 'C' means C-order,\n",
    "* 'F' means Fortran-order\n",
    "* 'A' means 'F' if the object 'obj' is Fortran contiguous,'C' otherwise.\n",
    "* 'K' means match the layout of 'obj' as closely as possible"
   ]
  },
  {
   "cell_type": "code",
   "execution_count": 5,
   "id": "ba9c5696-408b-4866-a206-e734939dea4b",
   "metadata": {},
   "outputs": [
    {
     "name": "stdout",
     "output_type": "stream",
     "text": [
      "This is the modified array for x: \n",
      " [[1001   22   12]\n",
      " [  44   53   66]]\n",
      "\n",
      "This is the copied array: \n",
      " [[42 22 12]\n",
      " [44 53 66]]\n"
     ]
    }
   ],
   "source": [
    "import numpy as np\n",
    "x = np.array([[42, 22, 12], [44, 53, 66]], order='F')\n",
    "y = x.copy()\n",
    "x[0, 0] = 1001\n",
    "print(\"This is the modified array for x: \\n\",x)\n",
    "print(\"\\nThis is the copied array: \\n\", y)"
   ]
  },
  {
   "cell_type": "markdown",
   "id": "cbd4acbb-ef51-4989-b910-c555cf6d1eeb",
   "metadata": {},
   "source": [
    "#### NDARRAY.COPY\n",
    "* There is also a ndarray method 'copy' which can be directly applied to an array.\n",
    "* It is similar to the above function, but the default values for the ordeer arguments are diffferent\n",
    "* `a.copy(order=\"C\")` Returns a copy of the array"
   ]
  },
  {
   "cell_type": "code",
   "execution_count": 9,
   "id": "07365f44-3c1c-4c0f-b5b5-20825a9c0287",
   "metadata": {},
   "outputs": [
    {
     "name": "stdout",
     "output_type": "stream",
     "text": [
      "This is the modified x array:\n",
      "  [[1001   22   12]\n",
      " [  44   53   66]]\n",
      "\n",
      "This is the copied ndarray: \n",
      " [[42 22 12]\n",
      " [44 53 66]]\n",
      "False\n",
      "True\n"
     ]
    }
   ],
   "source": [
    "x = np.array([[42, 22, 12],[44, 53, 66]], order=\"F\")\n",
    "y = x.copy()\n",
    "x[0, 0] = 1001\n",
    "print(\"This is the modified x array:\\n \", x)\n",
    "print(\"\\nThis is the copied ndarray: \\n\", y)\n",
    "\n",
    "print(x.flags['C_CONTIGUOUS'])\n",
    "print(y.flags['C_CONTIGUOUS'])"
   ]
  },
  {
   "cell_type": "code",
   "execution_count": null,
   "id": "4cbf12a1-fccb-4ba0-8ad5-0a8b11575718",
   "metadata": {},
   "outputs": [],
   "source": []
  }
 ],
 "metadata": {
  "kernelspec": {
   "display_name": "Python 3 (ipykernel)",
   "language": "python",
   "name": "python3"
  },
  "language_info": {
   "codemirror_mode": {
    "name": "ipython",
    "version": 3
   },
   "file_extension": ".py",
   "mimetype": "text/x-python",
   "name": "python",
   "nbconvert_exporter": "python",
   "pygments_lexer": "ipython3",
   "version": "3.12.5"
  }
 },
 "nbformat": 4,
 "nbformat_minor": 5
}
