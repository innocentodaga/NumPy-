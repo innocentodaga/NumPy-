{
 "cells": [
  {
   "cell_type": "code",
   "execution_count": 5,
   "id": "a445797b-afeb-4412-87a4-416196e885d8",
   "metadata": {},
   "outputs": [
    {
     "name": "stdout",
     "output_type": "stream",
     "text": [
      "[100 101 102 103]\n",
      "[[1. 2.]\n",
      " [3. 4.]]\n"
     ]
    }
   ],
   "source": [
    "# The simplest way to create a small NumPy array is to call the np.array \n",
    "# constructor with a list or tuple of values:\n",
    "\n",
    "# The dimensions of a NumPy array are called axes; the number of axes \n",
    "# an array has is called its rank\n",
    "import numpy as np\n",
    "a = np.array((100, 101, 102, 103))\n",
    "print(a)\n",
    "\n",
    "# a 2d array with two axes \n",
    "# a list of lists creates a two-dimensional array\n",
    "b = np.array([[1., 2.], [3., 4.]])\n",
    "print(b)"
   ]
  },
  {
   "cell_type": "code",
   "execution_count": 6,
   "id": "9b390ba6-be7c-4c50-adcd-f5fa16b153ea",
   "metadata": {},
   "outputs": [
    {
     "name": "stdout",
     "output_type": "stream",
     "text": [
      "2.0\n",
      "[[1. 2.]\n",
      " [3. 0.]]\n"
     ]
    }
   ],
   "source": [
    "# indexing the NumPy array\n",
    "index = b[0, 1] # in the first list, pick the second item \n",
    "print(index)\n",
    "\n",
    "b[1,1] = 0 # modifying the second element in the second list\n",
    "print(b)"
   ]
  },
  {
   "cell_type": "code",
   "execution_count": 7,
   "id": "9b29f956-51ee-4947-90ba-659d01fb5d83",
   "metadata": {},
   "outputs": [
    {
     "name": "stdout",
     "output_type": "stream",
     "text": [
      "[[1. 2.]\n",
      " [3. 0.]]\n"
     ]
    }
   ],
   "source": [
    "a = np.empty((2, 2))\n",
    "print(a)"
   ]
  },
  {
   "cell_type": "code",
   "execution_count": 8,
   "id": "5a8ba869-7353-4b6b-9604-9ee06a3c1141",
   "metadata": {},
   "outputs": [
    {
     "name": "stdout",
     "output_type": "stream",
     "text": [
      "[100 101 102 103]\n",
      "[1 1 1 1]\n",
      "[0 0 0 0]\n"
     ]
    }
   ],
   "source": [
    "a = np.array([100, 101, 102, 103])\n",
    "print(a)\n",
    "\n",
    "# this prints the array of ones that takes the shape of a\n",
    "b = np.ones_like(a)\n",
    "print(b)\n",
    "\n",
    "# this returns an array of zeros that takes the shape of a\n",
    "c = np.zeros_like(a)\n",
    "print(c)\n",
    "\n"
   ]
  },
  {
   "cell_type": "code",
   "execution_count": 10,
   "id": "e51126ea-544c-4d4e-bfdc-64b1245889b8",
   "metadata": {},
   "outputs": [
    {
     "name": "stdout",
     "output_type": "stream",
     "text": [
      "[0 1 2 3 4 5 6]\n",
      "[1.5 2.  2.5]\n",
      "[ 0.  1.  2.  3.  4.  5.  6.  7.  8.  9. 10.]\n"
     ]
    }
   ],
   "source": [
    "# Initializing an array from a sequence\n",
    "a = np.arange(7)\n",
    "print(a)\n",
    "\n",
    "# aranging the array between 1 and 3 with a sequence of 0.5\n",
    "b = np.arange(1.5, 3.0, 0.5)\n",
    "print(b)\n",
    "\n",
    "# futher arange examples\n",
    "x = np.arange(10.4)\n",
    "print(x)"
   ]
  },
  {
   "cell_type": "code",
   "execution_count": 12,
   "id": "2a5a6c14-3cb9-4fd9-8b42-deed396cb46c",
   "metadata": {},
   "outputs": [
    {
     "name": "stdout",
     "output_type": "stream",
     "text": [
      "[12.04 12.12 12.2  12.28 12.36 12.44 12.52 12.6  12.68 12.76 12.84]\n"
     ]
    }
   ],
   "source": [
    "x =  np.arange(12.04, 12.84, 0.08)\n",
    "print(x)"
   ]
  },
  {
   "cell_type": "code",
   "execution_count": null,
   "id": "b39d2f0e-a66a-4651-9d1e-afc816fbf5b0",
   "metadata": {},
   "outputs": [],
   "source": []
  },
  {
   "cell_type": "code",
   "execution_count": 21,
   "id": "ef091245-5a2d-447b-a2f1-3b5709c0200e",
   "metadata": {},
   "outputs": [
    {
     "name": "stdout",
     "output_type": "stream",
     "text": [
      "[1. 2. 3.]\n",
      "[1.+0.j 2.+0.j 3.+0.j]\n",
      "float64\n"
     ]
    }
   ],
   "source": [
    "# One dimensional arrays\n",
    "# Arrays are easily created from other container ojects. e.g lists,tuples\n",
    "# or other arrays using the function np.array()\n",
    "l =  [1, 2, 3.0]\n",
    "x = np.array(l)\n",
    "print(x)\n",
    "\n",
    "# creating an array of complex datatype \n",
    "a = np.array(l, dtype = complex)\n",
    "print(a)\n",
    "\n",
    "# to know the data type of the respective array\n",
    "datatype = x.dtype\n",
    "print(datatype)"
   ]
  },
  {
   "cell_type": "code",
   "execution_count": 23,
   "id": "ebe48461-9c4b-45c2-a95f-cf1c4fdf3413",
   "metadata": {},
   "outputs": [
    {
     "name": "stdout",
     "output_type": "stream",
     "text": [
      "1\n",
      "3\n",
      "(3,)\n"
     ]
    }
   ],
   "source": [
    "# To find the number of dimensions of an array\n",
    "print(x.ndim)\n",
    "\n",
    "# To find the number of elements\n",
    "print(x.size)\n",
    "\n",
    "# To find the shape of the array\n",
    "print(x.shape)"
   ]
  },
  {
   "cell_type": "code",
   "execution_count": 30,
   "id": "f4532bce-46ce-4b0a-b468-f7855f5bc37a",
   "metadata": {},
   "outputs": [
    {
     "name": "stdout",
     "output_type": "stream",
     "text": [
      "[1 2 3]\n",
      "[1. 2. 3.]\n",
      "[1. 2. 3.]\n"
     ]
    }
   ],
   "source": [
    "# Recasting the array with a different datatype using astype()\n",
    "recast = x.astype(int)\n",
    "print(recast)\n",
    "\n",
    "# Squeezing in an array\n",
    "flatten = np.squeeze(x)\n",
    "print(flatten)\n",
    "\n",
    "# Transposing an array\n",
    "transpose = np.transpose(x)\n",
    "print(transpose)"
   ]
  },
  {
   "cell_type": "code",
   "execution_count": 39,
   "id": "33da535f-b9ce-4b0e-8cae-7d97edd06245",
   "metadata": {},
   "outputs": [
    {
     "name": "stdout",
     "output_type": "stream",
     "text": [
      "[ 0.  1.  2.  3.  4.  5.  6.  7.  8.  9. 10.]\n",
      "5.0\n",
      "10.0\n",
      "10\n",
      "[2. 2. 2. 3. 4. 5. 6. 6. 6. 6. 6.]\n"
     ]
    }
   ],
   "source": [
    "# Different methods to use in an array\n",
    "x = np.linspace(0, 10, 11) # this creates a 1d array from 0-10 with a size of 11\n",
    "print(x)\n",
    "\n",
    "# Mean of the array\n",
    "mean = x.mean()\n",
    "print(mean)\n",
    "\n",
    "# Max of array\n",
    "Max = x.max()\n",
    "print(Max)\n",
    "\n",
    "# Index of max element or the last element\n",
    "index = x.argmax()\n",
    "print(index)\n",
    "\n",
    "# clip array values to range [2, 6] from 2 to 6\n",
    "clip = x.clip(2, 6)\n",
    "print(clip)"
   ]
  },
  {
   "cell_type": "code",
   "execution_count": 15,
   "id": "3c1abc59-24aa-44af-96d4-621067040329",
   "metadata": {},
   "outputs": [
    {
     "name": "stdout",
     "output_type": "stream",
     "text": [
      "[0.         0.11111111 0.22222222 0.33333333 0.44444444 0.55555556\n",
      " 0.66666667 0.77777778 0.88888889 1.        ]\n",
      "[ 1.          1.18367347  1.36734694  1.55102041  1.73469388  1.91836735\n",
      "  2.10204082  2.28571429  2.46938776  2.65306122  2.83673469  3.02040816\n",
      "  3.20408163  3.3877551   3.57142857  3.75510204  3.93877551  4.12244898\n",
      "  4.30612245  4.48979592  4.67346939  4.85714286  5.04081633  5.2244898\n",
      "  5.40816327  5.59183673  5.7755102   5.95918367  6.14285714  6.32653061\n",
      "  6.51020408  6.69387755  6.87755102  7.06122449  7.24489796  7.42857143\n",
      "  7.6122449   7.79591837  7.97959184  8.16326531  8.34693878  8.53061224\n",
      "  8.71428571  8.89795918  9.08163265  9.26530612  9.44897959  9.63265306\n",
      "  9.81632653 10.        ]\n",
      "[ 1.   2.5  4.   5.5  7.   8.5 10. ]\n"
     ]
    }
   ],
   "source": [
    "# np.linspace()\n",
    "# which builds an equally spaced array of floats. In its simplest \n",
    "# use case, the function takes a start value, a stop value, and the\n",
    "# number of steps as arguments:\n",
    "a = np.linspace(0, 1, 10)\n",
    "print(a)\n",
    "\n",
    "# another example of linspace\n",
    "x = np.linspace(1, 10) # by default 50 values from 1 and 10\n",
    "print(x)\n",
    "\n",
    "# 7 values wfrom between 1 and 10:\n",
    "y = np.linspace(1, 10, 7)\n",
    "print(y)"
   ]
  },
  {
   "cell_type": "code",
   "execution_count": null,
   "id": "c03e551b-4eac-4dda-aede-04d024c41b5d",
   "metadata": {},
   "outputs": [],
   "source": []
  }
 ],
 "metadata": {
  "kernelspec": {
   "display_name": "Python 3 (ipykernel)",
   "language": "python",
   "name": "python3"
  },
  "language_info": {
   "codemirror_mode": {
    "name": "ipython",
    "version": 3
   },
   "file_extension": ".py",
   "mimetype": "text/x-python",
   "name": "python",
   "nbconvert_exporter": "python",
   "pygments_lexer": "ipython3",
   "version": "3.12.1"
  }
 },
 "nbformat": 4,
 "nbformat_minor": 5
}
