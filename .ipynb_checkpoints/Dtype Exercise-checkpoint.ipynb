{
 "cells": [
  {
   "cell_type": "code",
   "execution_count": null,
   "id": "681df058-20df-42db-bb5c-d4fa9d62c76c",
   "metadata": {},
   "outputs": [],
   "source": [
    "Exercise one on Data type"
   ]
  },
  {
   "cell_type": "code",
   "execution_count": 8,
   "id": "a463c969-1f33-422f-bac5-d500e65a3269",
   "metadata": {},
   "outputs": [
    {
     "name": "stdout",
     "output_type": "stream",
     "text": [
      "[1 2 3 4 5 6]\n",
      "['Books' 'Pens' 'Pencils' 'Rulers' 'Sets' 'Bags']\n",
      "[ 4500  1500   500  2000  2500 25000]\n",
      "(1, 'Books', 4500)\n"
     ]
    }
   ],
   "source": [
    "import numpy as np\n",
    "\n",
    "dt = np.dtype([('ProductId', 'i4'), \n",
    "               ('ProductName', np.unicode_, 20), \n",
    "               ('Price', 'i4')\n",
    "              ])\n",
    "\n",
    "products = np.array([(1, \"Books\", 4500),\n",
    "                     (2, \"Pens\", 1500),\n",
    "                     (3, \"Pencils\", 500),\n",
    "                     (4, \"Rulers\", 2000),\n",
    "                     (5, \"Sets\", 2500),\n",
    "                     (6, \"Bags\", 25000),\n",
    "                    ], dtype=dt)\n",
    "\n",
    "print(products['ProductId'])\n",
    "print(products['ProductName'])\n",
    "print(products['Price'])\n",
    "print(products[0])"
   ]
  },
  {
   "cell_type": "code",
   "execution_count": null,
   "id": "e7dfa2b2-3598-488d-b63e-7909b0e07594",
   "metadata": {},
   "outputs": [],
   "source": []
  }
 ],
 "metadata": {
  "kernelspec": {
   "display_name": "Python 3 (ipykernel)",
   "language": "python",
   "name": "python3"
  },
  "language_info": {
   "codemirror_mode": {
    "name": "ipython",
    "version": 3
   },
   "file_extension": ".py",
   "mimetype": "text/x-python",
   "name": "python",
   "nbconvert_exporter": "python",
   "pygments_lexer": "ipython3",
   "version": "3.12.5"
  }
 },
 "nbformat": 4,
 "nbformat_minor": 5
}
