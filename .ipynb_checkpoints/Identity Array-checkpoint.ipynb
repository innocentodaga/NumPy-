{
 "cells": [
  {
   "cell_type": "markdown",
   "id": "4503900a-4813-4a9e-a6a0-aa163101a281",
   "metadata": {},
   "source": [
    "#### IDENTITY ARRAY\n",
    "* In linear algebra, the identity matrix, or unit matrix, of size n is the n × n square matrix with ones on the main diagonal and zeros elsewhere.\n",
    "* There are two ways in Numpy to create identity arrays:\n",
    "    * identity\n",
    "    * eye\n",
    "   "
   ]
  },
  {
   "cell_type": "markdown",
   "id": "587dbeb3-914f-4d86-a8ed-2070cdf8e17a",
   "metadata": {},
   "source": [
    "#### THE IDENTITY FUNCTION\n",
    "* We can create identity arrays with the function identity:\n",
    "* `identity(n, dtype=None)`\n",
    "* n defines the number of rows and cols of the output. i.e 'n' x 'n'\n",
    "* dtype optional argument, defining the data-type of the output. The default is 'float'\n"
   ]
  },
  {
   "cell_type": "code",
   "execution_count": 3,
   "id": "d11153f5-b1fa-43ec-807e-4c2817e83805",
   "metadata": {},
   "outputs": [
    {
     "data": {
      "text/plain": [
       "array([[1., 0., 0., 0.],\n",
       "       [0., 1., 0., 0.],\n",
       "       [0., 0., 1., 0.],\n",
       "       [0., 0., 0., 1.]])"
      ]
     },
     "execution_count": 3,
     "metadata": {},
     "output_type": "execute_result"
    }
   ],
   "source": [
    "import numpy as np\n",
    "np.identity(4)"
   ]
  },
  {
   "cell_type": "code",
   "execution_count": 5,
   "id": "cd22144c-f129-40df-ad2a-421735795d77",
   "metadata": {},
   "outputs": [
    {
     "data": {
      "text/plain": [
       "array([[1, 0, 0, 0],\n",
       "       [0, 1, 0, 0],\n",
       "       [0, 0, 1, 0],\n",
       "       [0, 0, 0, 1]])"
      ]
     },
     "execution_count": 5,
     "metadata": {},
     "output_type": "execute_result"
    }
   ],
   "source": [
    "np.identity(4, dtype=int) # same as np.identity(4, int)"
   ]
  },
  {
   "cell_type": "markdown",
   "id": "4e2c3cd0-48ef-483a-a9d3-80bdda8b37d1",
   "metadata": {},
   "source": [
    "#### THE EYE FUNCTION\n",
    "* Another way to create identity arrays provides the function eye. This function creates also diagonal arrays consisting solely of ones.\n",
    "* It returns a 2-D array with ones on the diagonal and zeros elsewhere.\n",
    "* `eye(N, M=None, k=0, dtype=float)`\n",
    "* N :- An optional interger number defining the rows of the output array\n",
    "* M An optional integer for setting the number of columns in the output. If it is None, it defaults to 'N'\n",
    "* Defining the position of the diagonal. The default is 0. 0 refers to the main diagonal. A positive value refers to an upper diagonal, and a negative value to a lover diagonal.\n",
    "* Eye returns an ndarray of shape(N, M). All elements of this array are equal to zero, except for the 'k'th diagonal, whose values are equal to one."
   ]
  },
  {
   "cell_type": "code",
   "execution_count": 16,
   "id": "6e3631e5-0bec-4c4c-affd-26a24947ab9f",
   "metadata": {},
   "outputs": [
    {
     "name": "stdout",
     "output_type": "stream",
     "text": [
      "This is an ndarray with 5 rows and 8 cols and the kth diagonal at index 2\n",
      " [[0 0 1 0 0 0 0 0]\n",
      " [0 0 0 1 0 0 0 0]\n",
      " [0 0 0 0 1 0 0 0]\n",
      " [0 0 0 0 0 1 0 0]\n",
      " [0 0 0 0 0 0 1 0]]\n",
      "\n",
      "This is an ndarray with 3 rows and 6 cols and the kth diagonal at index 3\n",
      " [[0 0 0 1 0 0]\n",
      " [0 0 0 0 1 0]\n",
      " [0 0 0 0 0 1]]\n",
      "\n",
      "This is an ndarray with 5 rows and 8 cols and the kth diagonal at index -1\n",
      " [[0 0 0 0 0 0 0 0]\n",
      " [1 0 0 0 0 0 0 0]\n",
      " [0 1 0 0 0 0 0 0]\n",
      " [0 0 1 0 0 0 0 0]\n",
      " [0 0 0 1 0 0 0 0]]\n"
     ]
    }
   ],
   "source": [
    "x = np.eye(5, 8, k=2, dtype=int) # 5 rep rows, 8 rep cols, k rep the diag to filled with 1s\n",
    "print(\"This is an ndarray with 5 rows and 8 cols and the kth diagonal at index 2\\n\", x)\n",
    "\n",
    "y = np.eye(3, 6, k=3, dtype=int)\n",
    "print(\"\\nThis is an ndarray with 3 rows and 6 cols and the kth diagonal at index 3\\n\", y)\n",
    "\n",
    "k = np.eye(5, 8, k=-1, dtype=int)\n",
    "print(\"\\nThis is an ndarray with 5 rows and 8 cols and the kth diagonal at index -1\\n\", k)\n"
   ]
  },
  {
   "cell_type": "code",
   "execution_count": null,
   "id": "07791992-cca6-4dbd-a82f-936fe32c86cb",
   "metadata": {},
   "outputs": [],
   "source": []
  }
 ],
 "metadata": {
  "kernelspec": {
   "display_name": "Python 3 (ipykernel)",
   "language": "python",
   "name": "python3"
  },
  "language_info": {
   "codemirror_mode": {
    "name": "ipython",
    "version": 3
   },
   "file_extension": ".py",
   "mimetype": "text/x-python",
   "name": "python",
   "nbconvert_exporter": "python",
   "pygments_lexer": "ipython3",
   "version": "3.12.5"
  }
 },
 "nbformat": 4,
 "nbformat_minor": 5
}
