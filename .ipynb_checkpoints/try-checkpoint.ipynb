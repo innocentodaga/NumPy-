{
 "cells": [
  {
   "cell_type": "code",
   "execution_count": 28,
   "id": "085da27c-c4a6-40cd-aa24-1c01bb855fac",
   "metadata": {},
   "outputs": [
    {
     "name": "stdout",
     "output_type": "stream",
     "text": [
      "[[1 3]\n",
      " [5 7]]\n",
      "[[2 4]\n",
      " [6 8]]\n",
      "\n",
      "The sum of the two arrays is: \n",
      "[[ 3  7]\n",
      " [11 15]]\n",
      "\n",
      "The product of the two arrays is: \n",
      "[[ 2 12]\n",
      " [30 56]]\n",
      "\n",
      "The difference of the two arrays is: \n",
      "[[-1 -1]\n",
      " [-1 -1]]\n",
      "\n",
      "The quotient of the two arrays is: \n",
      "[[0.5        0.75      ]\n",
      " [0.83333333 0.875     ]]\n"
     ]
    }
   ],
   "source": [
    "import numpy as np\n",
    "\n",
    "array1 = np.array([[1, 3],\n",
    "                   [5, 7]])\n",
    "array2 = np.array([[2, 4],\n",
    "                   [6, 8]])\n",
    "print(array1)\n",
    "print(array2)\n",
    "\n",
    "# Addition\n",
    "c = array1 + array2\n",
    "print(f\"\\nThe sum of the two arrays is: \\n{c}\")\n",
    "\n",
    "# multiplication \n",
    "c = array1 * array2\n",
    "print(f\"\\nThe product of the two arrays is: \\n{c}\")\n",
    "\n",
    "# Subtraction\n",
    "c = array1 - array2\n",
    "print(f\"\\nThe difference of the two arrays is: \\n{c}\")\n",
    "\n",
    "# Division\n",
    "c = array1 / array2\n",
    "print(f\"\\nThe division of the two arrays is: \\n{c}\")"
   ]
  },
  {
   "cell_type": "code",
   "execution_count": 30,
   "id": "f22d6235-54b8-4b14-bed9-7e47006c9172",
   "metadata": {},
   "outputs": [
    {
     "name": "stdout",
     "output_type": "stream",
     "text": [
      "The square of the first array:\n",
      "[[  0   1   4   9  16  25]\n",
      " [ 36  49  64  81 100 121]\n",
      " [144 169 196 225 256 289]]\n",
      "\n",
      "The square of the second array:\n",
      "[[  0   1   4   9  16]\n",
      " [ 25  36  49  64  81]\n",
      " [100 121 144 169 196]\n",
      " [225 256 289 324 361]]\n"
     ]
    }
   ],
   "source": [
    "# Squaring the arrays\n",
    "array1 = np.arange(18).reshape(3, 6)\n",
    "array2 = np.arange(20).reshape(4, 5)\n",
    "\n",
    "sqr1 = array1**2\n",
    "sqr2 = array2**2\n",
    "print(f\"The square of the first array:\\n{sqr1}\\n\")\n",
    "print(f\"The square of the second array:\\n{sqr2}\")\n"
   ]
  },
  {
   "cell_type": "code",
   "execution_count": 38,
   "id": "8a3355ff-7ddc-468e-9b35-5ab0810dbcfb",
   "metadata": {},
   "outputs": [
    {
     "name": "stdout",
     "output_type": "stream",
     "text": [
      "[[16 24]\n",
      " [40 64]]\n",
      "\n",
      "Another matrix alternative\n",
      "[[16 24]\n",
      " [40 64]]\n"
     ]
    }
   ],
   "source": [
    "# The matrix product of the arrays\n",
    "array1 = np.array([[1, 3],\n",
    "                   [5, 7]])\n",
    "array2 = np.array([[2, 4],\n",
    "                   [6, 8]])\n",
    "\n",
    "matrix = array1 @ array1\n",
    "print(matrix)\n",
    "\n",
    "# or do this\n",
    "print('\\nAnother matrix alternative')\n",
    "matrix = array1.dot(array1)\n",
    "print(matrix)"
   ]
  },
  {
   "cell_type": "code",
   "execution_count": 49,
   "id": "cef17868-711f-4a0b-b59e-a26340845c9f",
   "metadata": {},
   "outputs": [
    {
     "name": "stdout",
     "output_type": "stream",
     "text": [
      "[[0.11320283 0.53632888 0.25188083]\n",
      " [0.72708259 0.09102716 0.76145373]]\n"
     ]
    }
   ],
   "source": [
    "# Generating random numbers\n",
    "randNumbers = np.random.random((2,3))\n",
    "print(randNumbers)"
   ]
  },
  {
   "cell_type": "code",
   "execution_count": 51,
   "id": "e255f1da-344b-4c88-8f12-14645caae3e7",
   "metadata": {},
   "outputs": [
    {
     "name": "stdout",
     "output_type": "stream",
     "text": [
      "[[1. 1. 1. 1.]\n",
      " [1. 1. 1. 1.]]\n"
     ]
    }
   ],
   "source": [
    "# using ones\n",
    "usingOnes = np.ones((2, 4))\n",
    "print(usingOnes)\n"
   ]
  },
  {
   "cell_type": "code",
   "execution_count": 64,
   "id": "316462d3-b759-4dda-b82a-dcf5e5720047",
   "metadata": {},
   "outputs": [
    {
     "name": "stdout",
     "output_type": "stream",
     "text": [
      "2\n",
      "[2 6]\n",
      "[2 4]\n",
      "\n",
      " Max\n",
      "8\n",
      "[4 8]\n",
      "[6 8]\n",
      "\n",
      "Sum\n",
      "20\n",
      "[ 6 14]\n",
      "[ 8 12]\n",
      "\n",
      "Cumulative Sum\n",
      "[ 2  6 12 20]\n"
     ]
    }
   ],
   "source": [
    "# min(), max(), sum(), cumsum()\n",
    "ar = np.array([\n",
    "    [2, 4], \n",
    "    [6, 8]\n",
    "])\n",
    "minItem = ar.min()\n",
    "print(minItem)\n",
    "\n",
    "# min along each row \n",
    "minRowItem = ar.min(axis = 1)\n",
    "print(minRowItem)\n",
    "\n",
    "# min along each colum\n",
    "minColItem = ar.min(axis = 0)\n",
    "print(minColItem)\n",
    "\n",
    "print(\"\\n Max\")\n",
    "maxItem = ar.max()\n",
    "print(maxItem)\n",
    "\n",
    "# min along each row \n",
    "maxRowItem = ar.max(axis = 1)\n",
    "print(maxRowItem)\n",
    "\n",
    "# min along each colum\n",
    "maxColItem = ar.max(axis = 0)\n",
    "print(maxColItem)\n",
    "\n",
    "print(\"\\nSum\")\n",
    "# sum of the items\n",
    "sumItem = ar.sum()\n",
    "print(sumItem)\n",
    "\n",
    "# sum of items in each row \n",
    "sumRowItem = ar.sum(axis = 1)\n",
    "print(sumRowItem)\n",
    "\n",
    "# sum of items in each colum \n",
    "sumColItem = ar.sum(axis = 0)\n",
    "print(sumColItem)\n",
    "\n",
    "print(\"\\nCumulative Sum\")\n",
    "# cumulative sum of the items\n",
    "cumSum = ar.cumsum()\n",
    "print(cumSum)"
   ]
  },
  {
   "cell_type": "code",
   "execution_count": null,
   "id": "da8eae9d-fa1d-4008-a580-61b68557001b",
   "metadata": {},
   "outputs": [],
   "source": []
  }
 ],
 "metadata": {
  "kernelspec": {
   "display_name": "Python 3 (ipykernel)",
   "language": "python",
   "name": "python3"
  },
  "language_info": {
   "codemirror_mode": {
    "name": "ipython",
    "version": 3
   },
   "file_extension": ".py",
   "mimetype": "text/x-python",
   "name": "python",
   "nbconvert_exporter": "python",
   "pygments_lexer": "ipython3",
   "version": "3.12.1"
  }
 },
 "nbformat": 4,
 "nbformat_minor": 5
}
