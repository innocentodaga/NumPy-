{
 "cells": [
  {
   "cell_type": "code",
   "execution_count": 6,
   "id": "f64e44e4-a4ff-43d0-bf26-a8d4c8e8cc67",
   "metadata": {},
   "outputs": [
    {
     "name": "stdout",
     "output_type": "stream",
     "text": [
      "[1. 4. 5. 8.]\n",
      "<class 'numpy.ndarray'>\n",
      "[1. 4.]\n",
      "8.0\n",
      "[5. 4. 5. 8.]\n"
     ]
    }
   ],
   "source": [
    "import numpy as np\n",
    "a = np.array([1, 4, 5, 8], float)\n",
    "print(a)\n",
    "\n",
    "print(type(a))\n",
    "\n",
    "# printing the first two elements of an array\n",
    "print(a[:2])\n",
    "\n",
    "# printing  the 4th element\n",
    "print(a[3])\n",
    "\n",
    "# changing values of the array\n",
    "a[0] = 5\n",
    "print(a)\n",
    "\n"
   ]
  },
  {
   "cell_type": "code",
   "execution_count": 9,
   "id": "d44330c5-9cba-4afa-83ac-c932aed8a6cd",
   "metadata": {},
   "outputs": [
    {
     "name": "stdout",
     "output_type": "stream",
     "text": [
      "[[1. 2. 3.]\n",
      " [4. 5. 6.]]\n",
      "1.0\n",
      "6.0\n"
     ]
    }
   ],
   "source": [
    "# multidimensional arrays\n",
    "a = np.array([[1,2,3],[4,5,6]], float)\n",
    "print(a)\n",
    "\n",
    "# printing the first element in the first array item\n",
    "print(a[0, 0])\n",
    "\n",
    "# printing the last item in the second list\n",
    "print(a[1, 2])"
   ]
  },
  {
   "cell_type": "code",
   "execution_count": 21,
   "id": "120d52fe-253c-46b4-8766-7f65bff54cfa",
   "metadata": {},
   "outputs": [
    {
     "name": "stdout",
     "output_type": "stream",
     "text": [
      "list all elements in the first list\n",
      "[4. 5. 6.]\n",
      "\n",
      "print the elements at index 2 in the both list:\n",
      "[3. 6.]\n",
      "\n",
      "print the second last element in the last list:\n",
      " [[5. 6.]]\n"
     ]
    }
   ],
   "source": [
    "# slicing arrays\n",
    "a = np.array([[1,2,3],[4,5,6]], float)\n",
    "\n",
    "# list all elements in the first list\n",
    "print(f\"list all elements in the first list\\n{a[1, :]}\")\n",
    "\n",
    "# print the elements at index 2 in the both list\n",
    "print(f\"\\nprint the elements at index 2 in the both list:\\n{a[:, 2]}\")\n",
    "\n",
    "# print the second last element in the last list\n",
    "print(f\"\\nprint the second last element in the last list:\\n {a[-1:, -2:]}\")"
   ]
  },
  {
   "cell_type": "code",
   "execution_count": 26,
   "id": "ce5ba04b-c37e-4a5c-af3b-f19c2157ff07",
   "metadata": {},
   "outputs": [
    {
     "name": "stdout",
     "output_type": "stream",
     "text": [
      "This returns the shape of the array\n",
      "(2, 3) 2 rows and 3 cols\n",
      "\n",
      "The length of the array:\n",
      "2\n"
     ]
    }
   ],
   "source": [
    "print(f\"This returns the shape of the array\\n{a.shape} 2 rows and 3 cols\\n\")\n",
    "print(f\"The length of the array:\\n{len(a)}\")"
   ]
  },
  {
   "cell_type": "code",
   "execution_count": 28,
   "id": "ef86cb73-161a-40fe-a234-9ced70a1cdf2",
   "metadata": {},
   "outputs": [
    {
     "name": "stdout",
     "output_type": "stream",
     "text": [
      "True\n"
     ]
    }
   ],
   "source": [
    "# checking whether an element exist in the array \n",
    "a = np.array([[1, 2, 3],[4, 5, 6]], float)\n",
    "print(2 in a) # this confirms the existenc of the element in "
   ]
  },
  {
   "cell_type": "code",
   "execution_count": 39,
   "id": "d08054c9-389d-4a9f-a52f-c94cfc61ff10",
   "metadata": {},
   "outputs": [
    {
     "name": "stdout",
     "output_type": "stream",
     "text": [
      "[ 1.  2.  3.  4.  5.  6.  7.  8.  9. 10.]\n",
      "[[ 1.  2.]\n",
      " [ 3.  4.]\n",
      " [ 5.  6.]\n",
      " [ 7.  8.]\n",
      " [ 9. 10.]]\n"
     ]
    }
   ],
   "source": [
    "# reshaping arrays usign tuples that specify the new dimensions.\n",
    "a = np.array(range(1, 11), float)\n",
    "print(a)\n",
    "\n",
    "# This reshapes the above array to a 2d array with 2 rows and 5 cols\n",
    "a = a.reshape((5, 2))\n",
    "print(a)"
   ]
  },
  {
   "cell_type": "code",
   "execution_count": 42,
   "id": "b1a26bc0-58f8-4566-94bf-06e474f61ea5",
   "metadata": {},
   "outputs": [
    {
     "name": "stdout",
     "output_type": "stream",
     "text": [
      "This is array a: \n",
      "[0 2 3]\n",
      "\n",
      "This is array b: \n",
      "[0 2 3]\n",
      "\n",
      "This is array c: \n",
      "[1 2 3]\n"
     ]
    }
   ],
   "source": [
    "# using copy\n",
    "a = np.array([1, 2, 3])\n",
    "b = a # a and b use or access the same memory address storage of the array\n",
    "c = a.copy() # this creates a seperate file for c\n",
    "\n",
    "a[0] = 0\n",
    "\n",
    "print(f\"This is array a: \\n{a}\\n\")\n",
    "\n",
    "print(f\"This is array b: \\n{b}\\n\")\n",
    "\n",
    "print(f\"This is array c: \\n{c}\")\n"
   ]
  },
  {
   "cell_type": "code",
   "execution_count": 47,
   "id": "4eecfe88-753a-499c-9e24-101302e49c5f",
   "metadata": {},
   "outputs": [
    {
     "name": "stdout",
     "output_type": "stream",
     "text": [
      "# Creating lists from arrays\n",
      "[0, 2, 3]\n",
      "Another way of making a list\n",
      "[0, 2, 3]\n"
     ]
    }
   ],
   "source": [
    "# Creating lists from arrays\n",
    "print(\"# Creating lists from arrays\")\n",
    "a_list = a.tolist()\n",
    "print(a_list)\n",
    "\n",
    "# or this way \n",
    "print(\"Another way of making a list\")\n",
    "print(list(a))"
   ]
  },
  {
   "cell_type": "code",
   "execution_count": 55,
   "id": "35f963b5-2861-4933-9945-1c22a11c33b5",
   "metadata": {},
   "outputs": [
    {
     "name": "stdout",
     "output_type": "stream",
     "text": [
      "b'\\x00\\x00\\x00\\x00\\x00\\x00\\xf0?\\x00\\x00\\x00\\x00\\x00\\x00\\x00@\\x00\\x00\\x00\\x00\\x00\\x00\\x08@'\n",
      "\n",
      "[1. 2. 3.]\n"
     ]
    }
   ],
   "source": [
    "# convert raw data in an array to a binary string(not in human readable form)\n",
    "# tostring() function turns an array to string in a non readable form\n",
    "\n",
    "a = np.array([1,2,3], float)\n",
    "string = a.tobytes() # tostring() is deprecated use tobytes instead\n",
    "print(string)\n",
    "\n",
    "print(\"\")\n",
    "\n",
    "# fromstring() allows the array to be created from the data later on \n",
    "fromstr = np.frombuffer(string)\n",
    "print(fromstr) # fromstring() is deprecated use frombuffer instead\n"
   ]
  },
  {
   "cell_type": "code",
   "execution_count": 61,
   "id": "ed0016a0-639a-461f-b515-eccb8acced97",
   "metadata": {},
   "outputs": [
    {
     "name": "stdout",
     "output_type": "stream",
     "text": [
      "[1 2 3 4]\n",
      "[0 0 0 0]\n"
     ]
    }
   ],
   "source": [
    "# filling the array with one value\n",
    "\n",
    "a = np.array([1, 2, 3, 4], int)\n",
    "print(a)\n",
    "\n",
    "# Filling the above array with 0s\n",
    "a.fill(0)\n",
    "\n",
    "print(a)"
   ]
  },
  {
   "cell_type": "code",
   "execution_count": 67,
   "id": "d5f854db-cd83-4a9b-9416-9e7f7cbd09e8",
   "metadata": {},
   "outputs": [
    {
     "name": "stdout",
     "output_type": "stream",
     "text": [
      "[[0. 1. 2.]\n",
      " [3. 4. 5.]]\n",
      "\n",
      "Transposed array: \n",
      "[[0. 3.]\n",
      " [1. 4.]\n",
      " [2. 5.]]\n"
     ]
    }
   ],
   "source": [
    "# Transposing arrays\n",
    "a = np.array(range(6), float).reshape((2, 3))\n",
    "print(a)\n",
    "\n",
    "# tanspose() funtion chages the rows to cols\n",
    "tansposing = a.transpose() \n",
    "print(f\"\\nTransposed array: \\n{tansposing}\")"
   ]
  },
  {
   "cell_type": "code",
   "execution_count": 70,
   "id": "a8476022-5b19-4dab-a091-e3015cedc7a5",
   "metadata": {},
   "outputs": [
    {
     "name": "stdout",
     "output_type": "stream",
     "text": [
      "[0. 1. 2. 3. 4. 5.]\n"
     ]
    }
   ],
   "source": [
    "#  multi-dimensional arrays can be generated with flatten:\n",
    "flattening = a.flatten()\n",
    "print(flattening)"
   ]
  },
  {
   "cell_type": "code",
   "execution_count": 75,
   "id": "1c56de47-4f5a-4be5-bc0c-44f43d31079b",
   "metadata": {},
   "outputs": [
    {
     "name": "stdout",
     "output_type": "stream",
     "text": [
      "[ 1  2  3  4  5  6  7  8  9 10 11 11 12 13 14]\n"
     ]
    }
   ],
   "source": [
    "# Two or more arrays can be concatenated together using the concatenate \n",
    "# function with a tuple of the arrays to be joined:\n",
    "\n",
    "a = np.array([1, 2], int)\n",
    "b = np.array([3, 4, 5, 6], int)\n",
    "c = np.arange(7, 12)\n",
    "d = np.array(range(11, 15))\n",
    "\n",
    "concat = np.concatenate((a, b, c, d))\n",
    "print(concat)\n",
    "\n"
   ]
  },
  {
   "cell_type": "code",
   "execution_count": null,
   "id": "e504ec33-635a-4001-ab45-8a1fee602b93",
   "metadata": {},
   "outputs": [],
   "source": []
  }
 ],
 "metadata": {
  "kernelspec": {
   "display_name": "Python 3 (ipykernel)",
   "language": "python",
   "name": "python3"
  },
  "language_info": {
   "codemirror_mode": {
    "name": "ipython",
    "version": 3
   },
   "file_extension": ".py",
   "mimetype": "text/x-python",
   "name": "python",
   "nbconvert_exporter": "python",
   "pygments_lexer": "ipython3",
   "version": "3.12.5"
  }
 },
 "nbformat": 4,
 "nbformat_minor": 5
}
