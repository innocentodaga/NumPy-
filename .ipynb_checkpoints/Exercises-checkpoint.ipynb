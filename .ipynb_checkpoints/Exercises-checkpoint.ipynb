{
 "cells": [
  {
   "cell_type": "markdown",
   "id": "d7c50f8b-6bef-4523-aa68-49554bcd659c",
   "metadata": {},
   "source": [
    "#### EXERCISE \n",
    "\n",
    "##### Exercise One\n",
    "1) Create an arbitrary one dimensional array called \"v\"."
   ]
  },
  {
   "cell_type": "code",
   "execution_count": 4,
   "id": "7018c898-d104-4fe0-b2b5-278892a7d323",
   "metadata": {},
   "outputs": [
    {
     "name": "stdout",
     "output_type": "stream",
     "text": [
      "[1 2 3 4 5 6 7]\n"
     ]
    }
   ],
   "source": [
    "import numpy as np\n",
    "v = np.array([1, 2, 3, 4, 5, 6, 7])\n",
    "print(v)"
   ]
  },
  {
   "cell_type": "markdown",
   "id": "a6cd720c-c3ef-44a7-8b1c-1a5f21462f8b",
   "metadata": {},
   "source": [
    "2) Create a new array which consists of the odd indices of previously created array \"v\"."
   ]
  },
  {
   "cell_type": "code",
   "execution_count": 23,
   "id": "ea9d19b3-afba-49a8-b7a8-95fd732aa112",
   "metadata": {},
   "outputs": [
    {
     "name": "stdout",
     "output_type": "stream",
     "text": [
      "This is an array that consits of odd indices of previously created array\n",
      " [1 3 5 7]\n",
      "[1 3 5 7]\n"
     ]
    }
   ],
   "source": [
    "odd_elements = np.array([1, 3, 5, 7])\n",
    "print(\"This is an array that consits of odd indices of previously created array\\n\", odd_elements)\n",
    "\n",
    "v = np.array([1, 2, 3, 4, 5, 6, 7])\n",
    "odd_elements = v[::2]\n",
    "print(odd_elements)"
   ]
  },
  {
   "cell_type": "markdown",
   "id": "ec531543-2095-4dc7-87a8-0d46278572c4",
   "metadata": {},
   "source": [
    "3) Create a new array in backwards ordering from \"v\"."
   ]
  },
  {
   "cell_type": "code",
   "execution_count": 11,
   "id": "1e741038-cdc1-48af-bf48-4204cee1b2d8",
   "metadata": {},
   "outputs": [
    {
     "name": "stdout",
     "output_type": "stream",
     "text": [
      "Reverse Order\n",
      " [1 3 5 7]\n"
     ]
    }
   ],
   "source": [
    "# reverse order\n",
    "r = v[::-1]\n",
    "print(\"Reverse Order\\n\", r)"
   ]
  },
  {
   "cell_type": "markdown",
   "id": "5927531c-3b7f-49f0-823f-5f642c787b71",
   "metadata": {},
   "source": [
    "4) What will be the output of the following code:"
   ]
  },
  {
   "cell_type": "code",
   "execution_count": 25,
   "id": "55a58b29-ce47-4f93-af01-05aca65040fb",
   "metadata": {},
   "outputs": [
    {
     "name": "stdout",
     "output_type": "stream",
     "text": [
      "200\n"
     ]
    }
   ],
   "source": [
    "a = np.array([1, 2, 3, 4, 5])\n",
    "b = a[1:4] # The two arrays share the same memory address\n",
    "b[0] = 200\n",
    "print(a[1]) # The output is 200 because slices are views in numpy and not copies."
   ]
  },
  {
   "cell_type": "markdown",
   "id": "45a8de4f-06ba-4e49-b847-7c3d364a7f73",
   "metadata": {},
   "source": [
    "5) Create a two dimensional array called \"m\"."
   ]
  },
  {
   "cell_type": "code",
   "execution_count": 26,
   "id": "2497b73e-b506-4b95-a96d-a20d888b8aef",
   "metadata": {},
   "outputs": [
    {
     "name": "stdout",
     "output_type": "stream",
     "text": [
      "[[1 2 3 4]\n",
      " [5 6 7 8]]\n"
     ]
    }
   ],
   "source": [
    "two_dimensional_array = np.array([[1, 2, 3, 4],[5, 6, 7, 8]])\n",
    "print(two_dimensional_array)"
   ]
  },
  {
   "cell_type": "markdown",
   "id": "ad6564f2-609c-4661-8316-8d76b6c71956",
   "metadata": {},
   "source": [
    "6) Create a new array from m, in which the elements of each row are reverse order."
   ]
  },
  {
   "cell_type": "code",
   "execution_count": 32,
   "id": "cd62fd17-1233-4009-851c-caf879305c11",
   "metadata": {},
   "outputs": [
    {
     "name": "stdout",
     "output_type": "stream",
     "text": [
      "[[4 3 2 1]\n",
      " [8 7 6 5]]\n"
     ]
    }
   ],
   "source": [
    "reverse_order = two_dimensional_array[::1, ::-1]\n",
    "print(reverse_order)"
   ]
  },
  {
   "cell_type": "markdown",
   "id": "2b3d12c5-e13d-4c55-9c94-5e16cc52e706",
   "metadata": {},
   "source": [
    "7) Another one, where the rows are in reverse order."
   ]
  },
  {
   "cell_type": "code",
   "execution_count": 37,
   "id": "83019e68-f7b7-4522-8493-0100f645ed6b",
   "metadata": {},
   "outputs": [
    {
     "name": "stdout",
     "output_type": "stream",
     "text": [
      "[[5 6 7 8]\n",
      " [1 2 3 4]]\n"
     ]
    }
   ],
   "source": [
    "reverse_rows = two_dimensional_array[::-1]\n",
    "print(reverse_rows)"
   ]
  },
  {
   "cell_type": "markdown",
   "id": "d1b004f8-8c17-4a1e-b53c-be6cbe436b05",
   "metadata": {},
   "source": [
    "8) Create an where the cols are in reverse order"
   ]
  },
  {
   "cell_type": "code",
   "execution_count": 38,
   "id": "81962a57-5ef7-43a1-b8ca-985877c3792d",
   "metadata": {},
   "outputs": [
    {
     "name": "stdout",
     "output_type": "stream",
     "text": [
      "[[5 6 7 8]\n",
      " [1 2 3 4]]\n"
     ]
    }
   ],
   "source": [
    "col_reverse = two_dimensional_array[::-1, ::]\n",
    "print(col_reverse)"
   ]
  },
  {
   "cell_type": "markdown",
   "id": "189b0878-1607-497a-a164-69301e7f4458",
   "metadata": {},
   "source": [
    "9) Create an array from m, where columns and rows are in reverse order."
   ]
  },
  {
   "cell_type": "code",
   "execution_count": 39,
   "id": "126f6426-2a85-4f96-b3bd-adaeed62730d",
   "metadata": {},
   "outputs": [
    {
     "name": "stdout",
     "output_type": "stream",
     "text": [
      "[[8 7 6 5]\n",
      " [4 3 2 1]]\n"
     ]
    }
   ],
   "source": [
    "row_col_reverse = two_dimensional_array[::-1, ::-1]\n",
    "print(row_col_reverse)"
   ]
  },
  {
   "cell_type": "markdown",
   "id": "ee231fe8-9d52-4763-ab25-53118739ade2",
   "metadata": {},
   "source": [
    "10)  Cut of the first and last row and the first and last column."
   ]
  },
  {
   "cell_type": "code",
   "execution_count": 45,
   "id": "9665718f-d406-40a5-977a-50819dc773e6",
   "metadata": {},
   "outputs": [
    {
     "name": "stdout",
     "output_type": "stream",
     "text": [
      "[[6]]\n"
     ]
    }
   ],
   "source": [
    "rev = two_dimensional_array[1:2,1:2]\n",
    "print(rev)"
   ]
  },
  {
   "cell_type": "code",
   "execution_count": null,
   "id": "ea8ec94a-d490-46dd-b176-62738ac76b8e",
   "metadata": {},
   "outputs": [],
   "source": []
  }
 ],
 "metadata": {
  "kernelspec": {
   "display_name": "Python 3 (ipykernel)",
   "language": "python",
   "name": "python3"
  },
  "language_info": {
   "codemirror_mode": {
    "name": "ipython",
    "version": 3
   },
   "file_extension": ".py",
   "mimetype": "text/x-python",
   "name": "python",
   "nbconvert_exporter": "python",
   "pygments_lexer": "ipython3",
   "version": "3.12.5"
  }
 },
 "nbformat": 4,
 "nbformat_minor": 5
}
