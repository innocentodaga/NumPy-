{
 "cells": [
  {
   "cell_type": "code",
   "execution_count": 32,
   "id": "a257716d-d03c-43f6-a8c2-adfd7d6e148e",
   "metadata": {},
   "outputs": [
    {
     "name": "stdout",
     "output_type": "stream",
     "text": [
      "[[ 0  1  2  3]\n",
      " [ 4  5  6  7]\n",
      " [ 8  9 10 11]]\n"
     ]
    }
   ],
   "source": [
    "# When operating and manipulating arrays, their data is sometimes \n",
    "# copied into a new array and sometimes not. This is\n",
    "# often a source of confusion for beginners. There are three cases:\n",
    "import numpy as np\n",
    "a = np.array([[0, 1, 2, 3],\n",
    "              [4, 5, 6, 7],\n",
    "              [ 8, 9, 10, 11]])\n",
    "print(a)"
   ]
  },
  {
   "cell_type": "code",
   "execution_count": 33,
   "id": "c034ec04-60d3-4aa5-bfc6-54191fac77ed",
   "metadata": {},
   "outputs": [
    {
     "name": "stdout",
     "output_type": "stream",
     "text": [
      "[[ 0  1  2  3]\n",
      " [ 4  5  6  7]\n",
      " [ 8  9 10 11]]\n",
      "True\n"
     ]
    }
   ],
   "source": [
    "# Senarials where no copy at all\n",
    "# Simple assignments make no copy of objects or their data.\n",
    "\n",
    "b = a  # no new object is created. a and b are two names for the same ndarray object\n",
    "print(b)\n",
    "print(b is a)"
   ]
  },
  {
   "cell_type": "code",
   "execution_count": 34,
   "id": "7037e87a-dc95-4317-809c-980929e5043d",
   "metadata": {},
   "outputs": [
    {
     "name": "stdout",
     "output_type": "stream",
     "text": [
      "ID for an ndarray 'a'\n",
      "1998489112944\n",
      "None\n"
     ]
    }
   ],
   "source": [
    "# checking their ids to confirm\n",
    "def checking_both_ids(x):\n",
    "    print(id(x))\n",
    "\n",
    "print(\"ID for an ndarray 'a'\")\n",
    "id(a)\n",
    "\n",
    "fucntiona = checking_both_ids(a)\n",
    "print(fucntiona)\n",
    "\n"
   ]
  },
  {
   "cell_type": "code",
   "execution_count": 35,
   "id": "a761727b-51fe-4e7e-b68d-722b5c52a4ab",
   "metadata": {},
   "outputs": [
    {
     "name": "stdout",
     "output_type": "stream",
     "text": [
      "[[ 0  1  2  3]\n",
      " [ 4  5  6  7]\n",
      " [ 8  9 10 11]]\n",
      "False\n"
     ]
    }
   ],
   "source": [
    "# view and shallow copy\n",
    "# Different array objects can share the same data. The view() method \n",
    "# creates a new array object that looks at the same data.\n",
    "c = a.view()\n",
    "print(c) # c has the same data as a but is different from a \n",
    "print(c is a) # c is a view of data owned by a\n"
   ]
  },
  {
   "cell_type": "code",
   "execution_count": 36,
   "id": "85a03c34-23cf-408d-9715-348ffa89618b",
   "metadata": {},
   "outputs": [
    {
     "name": "stdout",
     "output_type": "stream",
     "text": [
      "(3, 4)\n",
      "[[   0    1    2    3]\n",
      " [1234    5    6    7]\n",
      " [   8    9   10   11]]\n"
     ]
    }
   ],
   "source": [
    "# Since c is just a view of data in a that means using c cant change shape in a\n",
    "c = c.reshape((2,6)) \n",
    "shapeChangeCheck = a.shape\n",
    "print(shapeChangeCheck)\n",
    "\n",
    "# but the data in a can be changed rather than the shape\n",
    "c[0, 4] = 1234\n",
    "print(a)"
   ]
  },
  {
   "cell_type": "code",
   "execution_count": 42,
   "id": "ce8995f2-33ba-433a-a79c-7ec193a1e50d",
   "metadata": {},
   "outputs": [
    {
     "name": "stdout",
     "output_type": "stream",
     "text": [
      "[[ 1  2]\n",
      " [ 5  6]\n",
      " [ 9 10]]\n"
     ]
    }
   ],
   "source": [
    "# Slicing an array returns a view of it:\n",
    "s = a[:, 1:3]\n",
    "print(s) # s[:] is a view of s\n",
    "\n"
   ]
  },
  {
   "cell_type": "code",
   "execution_count": null,
   "id": "5930fc95-e51b-4184-95f3-86bcdfe1f493",
   "metadata": {},
   "outputs": [],
   "source": []
  }
 ],
 "metadata": {
  "kernelspec": {
   "display_name": "Python 3 (ipykernel)",
   "language": "python",
   "name": "python3"
  },
  "language_info": {
   "codemirror_mode": {
    "name": "ipython",
    "version": 3
   },
   "file_extension": ".py",
   "mimetype": "text/x-python",
   "name": "python",
   "nbconvert_exporter": "python",
   "pygments_lexer": "ipython3",
   "version": "3.12.1"
  }
 },
 "nbformat": 4,
 "nbformat_minor": 5
}
