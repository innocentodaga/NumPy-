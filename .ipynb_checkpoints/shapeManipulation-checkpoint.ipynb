{
 "cells": [
  {
   "cell_type": "code",
   "execution_count": 2,
   "id": "12a25883-f82f-4900-86d9-90bcae2bd198",
   "metadata": {},
   "outputs": [
    {
     "name": "stdout",
     "output_type": "stream",
     "text": [
      "\n",
      "This mutliplies the value by 10 then returns the floor(round off to the nearest left)\n",
      "[[4. 9. 5. 2.]\n",
      " [7. 1. 4. 5.]\n",
      " [2. 4. 9. 7.]]\n",
      "\n",
      "Here is the shape of the above:\n",
      "(3, 4)\n"
     ]
    }
   ],
   "source": [
    "import numpy as np\n",
    "\n",
    "# creating random numbers between 0 and 1\n",
    "rg = np.random\n",
    "\n",
    "# This mutliplies the value by 10 then returns the floor(round off to the nearest left)\n",
    "a = np.floor(10 * rg.random((3, 4)))\n",
    "print(f\"\\nThis mutliplies the value by 10 then returns the floor(round off to the nearest left)\\n{a}\")\n",
    "\n",
    "\n",
    "# to get the shape of the above\n",
    "shape = a.shape\n",
    "print(f\"\\nHere is the shape of the above:\\n{shape}\")"
   ]
  },
  {
   "cell_type": "code",
   "execution_count": 3,
   "id": "071422bb-8a2d-4eea-b251-dc7b99fd9289",
   "metadata": {},
   "outputs": [
    {
     "name": "stdout",
     "output_type": "stream",
     "text": [
      "Using ravel: \n",
      "[4. 9. 5. 2. 7. 1. 4. 5. 2. 4. 9. 7.]\n",
      "\n",
      "Using reshape: \n",
      "[[4. 9.]\n",
      " [5. 2.]\n",
      " [7. 1.]\n",
      " [4. 5.]\n",
      " [2. 4.]\n",
      " [9. 7.]]\n",
      "\n",
      "This is a transposed Array:\n",
      "[[4. 7. 2.]\n",
      " [9. 1. 4.]\n",
      " [5. 4. 9.]\n",
      " [2. 5. 7.]]\n"
     ]
    }
   ],
   "source": [
    "# using ravel()\n",
    "raveledArray = a.ravel() # This returns a flattened array (1d array)\n",
    "print(f\"Using ravel: \\n{raveledArray}\\n\")\n",
    "\n",
    "# Using reshape()\n",
    "reshape = a.reshape(6, 2) # This returns an array according to the specified arguments\n",
    "print(f\"Using reshape: \\n{reshape}\")\n",
    "\n",
    "# Using a.T for returning a transposed array(switching the col and row nums)\n",
    "transposed = a.T\n",
    "print(f\"\\nThis is a transposed Array:\\n{transposed}\")\n",
    "\n"
   ]
  },
  {
   "cell_type": "code",
   "execution_count": 4,
   "id": "6cea43ef-a91d-4389-bdce-81eb3f16b80d",
   "metadata": {},
   "outputs": [
    {
     "name": "stdout",
     "output_type": "stream",
     "text": [
      "[[4. 9. 5. 2.]\n",
      " [7. 1. 4. 5.]\n",
      " [2. 4. 9. 7.]]\n",
      "\n",
      "The resized array: \n",
      "[[4. 9. 5. 2. 7. 1.]\n",
      " [4. 5. 2. 4. 9. 7.]]\n",
      "[[4. 9. 5. 2.]\n",
      " [7. 1. 4. 5.]\n",
      " [2. 4. 9. 7.]]\n"
     ]
    }
   ],
   "source": [
    "# We can also resize the array using resize()\n",
    "print(a)\n",
    "\n",
    "resize = a.resize((2, 6)) # we can not return the variable resize but we just \n",
    "# call the array a\n",
    "print(f\"\\nThe resized array: \\n{a}\")\n",
    "\n",
    "# If a dimension is given as -1 in a reshaping operation, the other dimensions\n",
    "# are automatically calculated:\n",
    "ara = a.reshape(3, -1)\n",
    "print(ara)\n"
   ]
  },
  {
   "cell_type": "code",
   "execution_count": 5,
   "id": "88b8604e-680e-4397-9319-deca367b65bb",
   "metadata": {},
   "outputs": [
    {
     "name": "stdout",
     "output_type": "stream",
     "text": [
      "[[3. 9.]\n",
      " [9. 7.]]\n",
      "[[5. 7.]\n",
      " [3. 3.]]\n",
      "\n",
      "This creates a single array that vertically stacks array a onto b\n",
      "[[3. 9.]\n",
      " [9. 7.]\n",
      " [5. 7.]\n",
      " [3. 3.]]\n",
      "\n",
      "This creates a single array that horizontally stacks array a onto b\n",
      "[[3. 9. 5. 7.]\n",
      " [9. 7. 3. 3.]]\n"
     ]
    }
   ],
   "source": [
    "# Stacking together different arrays\n",
    "a = np.floor(10* rg.random((2, 2)))\n",
    "print(a)\n",
    "\n",
    "b = np.floor(10 * rg.random((2, 2)))\n",
    "print(b)\n",
    "\n",
    "# using vstack() to vertically stack two arrays together\n",
    "vstack = np.vstack((a, b))\n",
    "print(f\"\\nThis creates a single array that vertically stacks array a onto b\\n{vstack}\")\n",
    "\n",
    "# using vstack() to horizontally stack two arrays together\n",
    "vstack = np.hstack((a, b))\n",
    "print(f\"\\nThis creates a single array that horizontally stacks array a onto b\\n{vstack}\")"
   ]
  },
  {
   "cell_type": "code",
   "execution_count": 6,
   "id": "910513a1-0d1c-44dc-9d60-039a74dde392",
   "metadata": {},
   "outputs": [
    {
     "name": "stdout",
     "output_type": "stream",
     "text": [
      "[[3. 9. 5. 7.]\n",
      " [9. 7. 3. 3.]]\n"
     ]
    }
   ],
   "source": [
    "# using column_stack to stack 2d arrays only\n",
    "stuckArray = np.column_stack((a, b))  # with 2d arrays\n",
    "print(stuckArray)\n"
   ]
  },
  {
   "cell_type": "code",
   "execution_count": 7,
   "id": "f7fd5b70-1cd5-4fbb-a221-b63e176f2563",
   "metadata": {},
   "outputs": [
    {
     "name": "stdout",
     "output_type": "stream",
     "text": [
      "This is a result from column Stack:\n",
      " [[4 3]\n",
      " [2 8]]\n",
      "\n",
      "This is a result from horizontal Stack:\n",
      " [4 2 3 8]\n"
     ]
    }
   ],
   "source": [
    "# Difference between column_stack() and hstack() on 1d arrays\n",
    "a = np.array([4, 2])\n",
    "b = np.array([3, 8])\n",
    "\n",
    "colStack = np.column_stack((a, b))\n",
    "print(f\"This is a result from column Stack:\\n {colStack}\\n\")\n",
    "\n",
    "hstack = np.hstack((a, b))\n",
    "print(f\"This is a result from horizontal Stack:\\n {hstack}\")"
   ]
  },
  {
   "cell_type": "code",
   "execution_count": 10,
   "id": "3ae4f2c3-5ade-423f-b0e5-f9821a9dda9a",
   "metadata": {},
   "outputs": [
    {
     "name": "stdout",
     "output_type": "stream",
     "text": [
      "False\n",
      "True\n"
     ]
    }
   ],
   "source": [
    "#row_stack() is the same as vstack() but column_stack() is not the same as hstack()\n",
    "print(np.column_stack is np.hstack)\n",
    "print(np.row_stack is np.vstack)"
   ]
  },
  {
   "cell_type": "code",
   "execution_count": null,
   "id": "dae9dcdc-9ab5-47f7-a10d-89f144f476e1",
   "metadata": {},
   "outputs": [],
   "source": []
  }
 ],
 "metadata": {
  "kernelspec": {
   "display_name": "Python 3 (ipykernel)",
   "language": "python",
   "name": "python3"
  },
  "language_info": {
   "codemirror_mode": {
    "name": "ipython",
    "version": 3
   },
   "file_extension": ".py",
   "mimetype": "text/x-python",
   "name": "python",
   "nbconvert_exporter": "python",
   "pygments_lexer": "ipython3",
   "version": "3.12.1"
  }
 },
 "nbformat": 4,
 "nbformat_minor": 5
}
