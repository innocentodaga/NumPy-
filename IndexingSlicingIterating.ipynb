{
 "cells": [
  {
   "cell_type": "code",
   "execution_count": 2,
   "id": "0ef9efad-0653-46a7-9cad-22fd98e94dfe",
   "metadata": {},
   "outputs": [
    {
     "name": "stdout",
     "output_type": "stream",
     "text": [
      "[  0   1   8  27  64 125 216 343 512 729]\n",
      "[ 8 27 64]\n",
      "[729 512 343 216 125  64  27   8   1   0]\n",
      "0.0\n",
      "1.0\n",
      "2.0\n",
      "3.0\n",
      "3.9999999999999996\n",
      "5.0\n",
      "5.999999999999999\n",
      "6.999999999999999\n",
      "7.999999999999999\n",
      "8.999999999999998\n"
     ]
    }
   ],
   "source": [
    "# One-dimensional arrays can be indexed, sliced and iterated over,\n",
    "# much like lists and other Python sequences.\n",
    "import numpy as np\n",
    "\n",
    "a = np.arange(10) ** 3\n",
    "print(a)\n",
    "\n",
    "# slicing the above array\n",
    "slyc = a[2:5] # remember the last index (5) item is not include \n",
    "print(slyc)\n",
    "\n",
    "# reversing the array\n",
    "reverse = a[::-1]\n",
    "print(reverse)\n",
    "\n",
    "# iterating through the array\n",
    "for i in a:\n",
    "    print(i ** (1/3))\n"
   ]
  },
  {
   "cell_type": "code",
   "execution_count": 3,
   "id": "feb1ffd3-3d2c-494b-b2d6-f5e579af4329",
   "metadata": {},
   "outputs": [
    {
     "name": "stdout",
     "output_type": "stream",
     "text": [
      "[[ 0  1  2  3]\n",
      " [10 11 12 13]\n",
      " [20 21 22 23]\n",
      " [30 31 32 33]\n",
      " [40 41 42 43]]\n",
      "13\n"
     ]
    }
   ],
   "source": [
    "# Multidimensional arrays can have one index per axis. \n",
    "# These indices are given in a tuple separated by commas:\n",
    "\n",
    "def f(x, y):\n",
    "    return 10 * x + y\n",
    "\n",
    "b = np.fromfunction(f, (5, 4), dtype = int)\n",
    "print(b)\n",
    "\n",
    "itemIndex = b[1,3] # items at index 1 and 3\n",
    "print(itemIndex)"
   ]
  },
  {
   "cell_type": "code",
   "execution_count": 4,
   "id": "1884e436-4a46-43cc-94e2-7aba1dc2d052",
   "metadata": {},
   "outputs": [
    {
     "name": "stdout",
     "output_type": "stream",
     "text": [
      "\n",
      "this returns the second item in each row of b\n",
      "[ 1 11 21 31 41]\n",
      "\n",
      "returns all items in the second and third row of b\n",
      "[[10 11 12 13]\n",
      " [20 21 22 23]]\n",
      "\n",
      "The last element or row in b\n",
      "[40 41 42 43]\n"
     ]
    }
   ],
   "source": [
    "# Slicing certain axis or rows\n",
    "print(\"\\nthis returns the second item in each row of b\")\n",
    "sliceRow = b[0:5, 1] # this returns the second item in each row of b\n",
    "print(sliceRow)\n",
    "\n",
    "print(\"\\nreturns all items in the second and third row of b\")\n",
    "# Slicing Colums\n",
    "sliceCol = b[1:3, :] # returns all items in the second and third row of b\n",
    "print(sliceCol)\n",
    "\n",
    "\n",
    "print(\"\\nThe last element or row in b\")\n",
    "last = b[-1]\n",
    "print(last)"
   ]
  },
  {
   "cell_type": "code",
   "execution_count": 5,
   "id": "7b6f23ad-f27e-4291-bdb5-fba195b628b7",
   "metadata": {},
   "outputs": [
    {
     "name": "stdout",
     "output_type": "stream",
     "text": [
      "[0 1 2 3]\n",
      "[10 11 12 13]\n",
      "[20 21 22 23]\n",
      "[30 31 32 33]\n",
      "[40 41 42 43]\n"
     ]
    }
   ],
   "source": [
    "# Iterating the multidimensional arrays\n",
    "for row in b:\n",
    "    print(row)\n",
    "    "
   ]
  },
  {
   "cell_type": "code",
   "execution_count": 11,
   "id": "3fe2296c-b124-4cbd-bad2-112b8c76d5e3",
   "metadata": {},
   "outputs": [
    {
     "name": "stdout",
     "output_type": "stream",
     "text": [
      "The Original Array\n",
      " [[ 0  1  2  3  4  5  6]\n",
      " [ 7  8  9 10 11 12 13]\n",
      " [14 15 16 17 18 19 20]\n",
      " [21 22 23 24 25 26 27]]\n",
      "\n",
      "The Sliced Array\n",
      " [[ 0  3  6]\n",
      " [14 17 20]]\n",
      "\n",
      "The Sliced Array\n",
      " [[ 0  1  2  3  4  5  6]\n",
      " [14 15 16 17 18 19 20]]\n"
     ]
    }
   ],
   "source": [
    "X = np.arange(28).reshape(4,7)\n",
    "print('The Original Array\\n',X)\n",
    "\n",
    "print(\"\\nThe Sliced Array\\n\", X[::2,::3])\n",
    "\n",
    "print(\"\\nThe Sliced Array\\n\", X[::2])"
   ]
  },
  {
   "cell_type": "code",
   "execution_count": 12,
   "id": "7205c23b-47a8-4e80-8c04-a8fe80354f31",
   "metadata": {},
   "outputs": [
    {
     "name": "stdout",
     "output_type": "stream",
     "text": [
      "\n",
      "The Sliced Array Printing teh 1st, 3rd and last cols\n",
      " [[ 0  3  6]\n",
      " [ 7 10 13]\n",
      " [14 17 20]\n",
      " [21 24 27]]\n"
     ]
    }
   ],
   "source": [
    "print(\"\\nThe Sliced Array Printing teh 1st, 3rd and last cols\\n\", X[::,::3])"
   ]
  },
  {
   "cell_type": "code",
   "execution_count": null,
   "id": "25188863-a6e9-4d1c-8696-88e4e78c6db8",
   "metadata": {},
   "outputs": [],
   "source": []
  }
 ],
 "metadata": {
  "kernelspec": {
   "display_name": "Python 3 (ipykernel)",
   "language": "python",
   "name": "python3"
  },
  "language_info": {
   "codemirror_mode": {
    "name": "ipython",
    "version": 3
   },
   "file_extension": ".py",
   "mimetype": "text/x-python",
   "name": "python",
   "nbconvert_exporter": "python",
   "pygments_lexer": "ipython3",
   "version": "3.12.1"
  }
 },
 "nbformat": 4,
 "nbformat_minor": 5
}
