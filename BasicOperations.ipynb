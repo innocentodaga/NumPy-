{
 "cells": [
  {
   "cell_type": "code",
   "execution_count": 2,
   "id": "790b8707-0e83-4cd0-9ccb-913ef08008fe",
   "metadata": {},
   "outputs": [
    {
     "name": "stdout",
     "output_type": "stream",
     "text": [
      "[0 1 2 3]\n"
     ]
    }
   ],
   "source": [
    "# Arithmetic operators on arrays apply elementwise. \n",
    "# A new array is created and filled with the result.\n",
    "import numpy as np\n",
    "a = np.array([20, 30, 40, 50])\n",
    "b = np.arange(4)\n",
    "print(b)"
   ]
  },
  {
   "cell_type": "code",
   "execution_count": 6,
   "id": "ade93bb3-65bb-40e2-9a11-8d4464fbf437",
   "metadata": {},
   "outputs": [
    {
     "name": "stdout",
     "output_type": "stream",
     "text": [
      "[20 29 38 47]\n",
      "\n",
      "Squares of b\n",
      "[0 1 4 9]\n"
     ]
    }
   ],
   "source": [
    "# prints the individual items in a minus individual of b\n",
    "c = a - b\n",
    "print(c)\n",
    "\n",
    "# squaring the individual elements of b \n",
    "print('\\nSquares of b')\n",
    "square = b**2\n",
    "print(square)"
   ]
  },
  {
   "cell_type": "code",
   "execution_count": 7,
   "id": "9adc838d-f6f9-4abc-830e-5e0b4dd8f9ab",
   "metadata": {},
   "outputs": [
    {
     "name": "stdout",
     "output_type": "stream",
     "text": [
      "[ True  True False False]\n"
     ]
    }
   ],
   "source": [
    "# this checks if each element of a is less than 35\n",
    "print(a < 35)"
   ]
  },
  {
   "cell_type": "code",
   "execution_count": 8,
   "id": "11a93f0b-99e3-4c94-902b-124e476df69b",
   "metadata": {},
   "outputs": [
    {
     "name": "stdout",
     "output_type": "stream",
     "text": [
      "[[2 0]\n",
      " [0 4]]\n"
     ]
    }
   ],
   "source": [
    "# Multiplying matrix.. The lines below multiply individual element of A\n",
    "# with the individual elements of B\n",
    "A = np.array([[1,1],\n",
    "              [0,1]])\n",
    "B = np.array([[2,0],\n",
    "              [3,4]])\n",
    "\n",
    "print(A * B)"
   ]
  },
  {
   "cell_type": "code",
   "execution_count": 18,
   "id": "c5660670-1010-4719-9ef3-05dc142e5b5a",
   "metadata": {},
   "outputs": [
    {
     "name": "stdout",
     "output_type": "stream",
     "text": [
      "Matrix Product\n",
      "\n",
      "[[5 4]\n",
      " [3 4]]\n"
     ]
    }
   ],
   "source": [
    "# Matrix product use the @ \n",
    "A = np.array([[1,1],\n",
    "              [0,1]])\n",
    "B = np.array([[2,0],\n",
    "              [3,4]])\n",
    "# the @ makes it possible to evaluate the product in a matrix format\n",
    "print(\"Matrix Product\")\n",
    "print(A @ B)\n"
   ]
  },
  {
   "cell_type": "code",
   "execution_count": 19,
   "id": "ae34f513-0440-4bc2-ba05-c73e2f8606ff",
   "metadata": {},
   "outputs": [
    {
     "name": "stdout",
     "output_type": "stream",
     "text": [
      "[[5 4]\n",
      " [3 4]]\n"
     ]
    }
   ],
   "source": [
    "# Another way to multiply the matrix expression\n",
    "another = A.dot(B)\n",
    "print(another)"
   ]
  },
  {
   "cell_type": "code",
   "execution_count": 23,
   "id": "4229342b-ec49-4ea4-acac-7a9caa4e0df1",
   "metadata": {},
   "outputs": [
    {
     "name": "stdout",
     "output_type": "stream",
     "text": [
      "[[0.51182162 0.9504637  0.14415961]\n",
      " [0.94864945 0.31183145 0.42332645]]\n",
      "[[3 3 3]\n",
      " [3 3 3]]\n"
     ]
    }
   ],
   "source": [
    "# creating a default random number generator\n",
    "rg = np.random.default_rng(1)\n",
    "a = np.ones((2,3), dtype=int)\n",
    "b = rg.random((2,3))\n",
    "print(b)\n",
    "\n",
    "# this multiplies a * 3 i.e the same as a = a * 3 \n",
    "a *= 3\n",
    "print(a)"
   ]
  },
  {
   "cell_type": "code",
   "execution_count": 22,
   "id": "0256cabd-2305-4e88-9c09-b6b115074566",
   "metadata": {},
   "outputs": [
    {
     "name": "stdout",
     "output_type": "stream",
     "text": [
      "[[3.51182162 3.9504637  3.14415961]\n",
      " [3.94864945 3.31183145 3.42332645]]\n"
     ]
    }
   ],
   "source": [
    "# this adds the values of a to the ones of b\n",
    "b += a\n",
    "print(b)"
   ]
  },
  {
   "cell_type": "code",
   "execution_count": 28,
   "id": "5dba93bf-fdfe-46a3-a021-c340bd32abc2",
   "metadata": {},
   "outputs": [],
   "source": [
    "# this returns an error since the value of b are not integer values\n",
    "# a += b\n",
    "# print(a)"
   ]
  },
  {
   "cell_type": "code",
   "execution_count": 29,
   "id": "d0d6e7df-28be-4415-90d1-1d6a0c10e963",
   "metadata": {},
   "outputs": [
    {
     "name": "stdout",
     "output_type": "stream",
     "text": [
      "[[0.82770259 0.40919914 0.54959369]\n",
      " [0.02755911 0.75351311 0.53814331]]\n"
     ]
    }
   ],
   "source": [
    "# Generating random numbers in an array with two axes of 3 items\n",
    "a = rg.random((2,3))\n",
    "print(a)"
   ]
  },
  {
   "cell_type": "code",
   "execution_count": 30,
   "id": "1691a58b-0366-4df9-a343-8ad399bac2af",
   "metadata": {},
   "outputs": [
    {
     "name": "stdout",
     "output_type": "stream",
     "text": [
      "2.412007822394087\n"
     ]
    }
   ],
   "source": [
    "# to find the sum of all elements in the array\n",
    "a = rg.random((2,3))\n",
    "sumArray = a.sum()\n",
    "print(sumArray)"
   ]
  },
  {
   "cell_type": "code",
   "execution_count": 35,
   "id": "f6bf6e53-ac2a-4af2-a23f-8e2f8a766646",
   "metadata": {},
   "outputs": [
    {
     "name": "stdout",
     "output_type": "stream",
     "text": [
      "The minimum item in the array \n",
      "0.11586561247077032\n",
      "\n",
      "The maximum item in the array \n",
      "0.9172977047909027\n"
     ]
    }
   ],
   "source": [
    "# Obtaining the minimum value in the array\n",
    "a = rg.random((2,3))\n",
    "minNumber = a.min()\n",
    "print(f\"The minimum item in the array \\n{minNumber}\")\n",
    "\n",
    "# Obtaining the maximum value in the array\n",
    "maxNumber = a.max()\n",
    "print(f\"\\nThe maximum item in the array \\n{maxNumber}\")\n"
   ]
  },
  {
   "cell_type": "code",
   "execution_count": 48,
   "id": "64c7fa39-8ade-4269-9c7f-6cf94d202c68",
   "metadata": {},
   "outputs": [
    {
     "name": "stdout",
     "output_type": "stream",
     "text": [
      "[[ 0  1  2  3]\n",
      " [ 4  5  6  7]\n",
      " [ 8  9 10 11]]\n",
      " The sum of each colum is: [12 15 18 21]\n",
      " The sum of each row is: [ 6 22 38]\n",
      "The min of each row is: [0 4 8]\n"
     ]
    }
   ],
   "source": [
    "# By default, these operations apply to the array as though it \n",
    "# were a list of numbers, regardless of its shape. However, by\n",
    "# specifying the axis parameter you can apply an operation along \n",
    "# the specified axis of an array\n",
    "\n",
    "b = np.arange(12).reshape(3, 4)\n",
    "print(b)\n",
    "\n",
    "# specifying axis the numbers 0 and 1 specify the direction of the operation\n",
    "sumAxis = b.sum(axis = 0) # sum of each column vertically in an array\n",
    "print(f\" The sum of each colum is: {sumAxis}\")\n",
    "\n",
    "sumAxis = b.sum(axis = 1) # sum of each row horizontally in an array\n",
    "print(f\" The sum of each row is: {sumAxis}\")\n"
   ]
  },
  {
   "cell_type": "code",
   "execution_count": 49,
   "id": "8ac90219-39c8-4c84-91b5-9b28f0e0894d",
   "metadata": {},
   "outputs": [
    {
     "name": "stdout",
     "output_type": "stream",
     "text": [
      "The min of each row is: [0 4 8]\n",
      "The min of each row is: [0 1 2 3]\n"
     ]
    }
   ],
   "source": [
    "# min of each row\n",
    "minRow = b.min(axis = 1)\n",
    "print(f\"The min of each row is: {minRow}\")\n",
    "\n",
    "# min of each column\n",
    "minCol = b.min(axis = 0)\n",
    "print(f\"The min of each Col is: {minCol}\")"
   ]
  },
  {
   "cell_type": "code",
   "execution_count": 51,
   "id": "1e3fc7f5-8434-4bbc-bd29-6c2dda5963c7",
   "metadata": {},
   "outputs": [
    {
     "name": "stdout",
     "output_type": "stream",
     "text": [
      "[[ 0  1  3  6]\n",
      " [ 4  9 15 22]\n",
      " [ 8 17 27 38]]\n"
     ]
    }
   ],
   "source": [
    "# Finding cumulative sum of each row\n",
    "# the sum keeps increasing as the items are accessed in the array\n",
    "cumSum = b.cumsum(axis = 1)\n",
    "print(cumSum)"
   ]
  },
  {
   "cell_type": "code",
   "execution_count": null,
   "id": "f7b7ab9f-d820-46d7-a194-b6eaa34fe38a",
   "metadata": {},
   "outputs": [],
   "source": []
  }
 ],
 "metadata": {
  "kernelspec": {
   "display_name": "Python 3 (ipykernel)",
   "language": "python",
   "name": "python3"
  },
  "language_info": {
   "codemirror_mode": {
    "name": "ipython",
    "version": 3
   },
   "file_extension": ".py",
   "mimetype": "text/x-python",
   "name": "python",
   "nbconvert_exporter": "python",
   "pygments_lexer": "ipython3",
   "version": "3.12.1"
  }
 },
 "nbformat": 4,
 "nbformat_minor": 5
}
