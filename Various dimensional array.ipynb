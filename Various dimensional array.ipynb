{
 "cells": [
  {
   "cell_type": "code",
   "execution_count": 1,
   "id": "5e91b8a1-1c5c-4fa4-a937-daecdba80725",
   "metadata": {},
   "outputs": [],
   "source": [
    "            # =============ZERO DIMENSIONAL ARRAY=============#\n",
    "\n",
    "# It's possible to create multidimensional arrays in numpy. Scalars are zero \n",
    "# dimensional. In the following example, we will create the scalar 42. \n",
    "# Applying the ndim method to our scalar, we get the dimension of the array. \n",
    "# We can also see that the type is a \"numpy.ndarray\" type\n"
   ]
  },
  {
   "cell_type": "code",
   "execution_count": 3,
   "id": "2d4dadd4-dd13-46c2-abdf-20a8a5b8e95a",
   "metadata": {},
   "outputs": [
    {
     "name": "stdout",
     "output_type": "stream",
     "text": [
      "x: 45\n",
      "The type of x: <class 'numpy.ndarray'>\n",
      "The dimension of x: 0\n"
     ]
    }
   ],
   "source": [
    "import numpy as np\n",
    "x = np.array(45)\n",
    "print(f\"x: {x}\")\n",
    "print(\"The type of x:\", type(x))\n",
    "print(\"The dimension of x:\", np.ndim(x))"
   ]
  },
  {
   "cell_type": "code",
   "execution_count": 6,
   "id": "92b43716-ca98-4709-a122-796926e7e251",
   "metadata": {},
   "outputs": [],
   "source": [
    "            # ===============ONE DIMENSIONAL ARRAY===============#\n",
    "\n",
    "# We have already encountered a 1-dimenional array - better known to some as vectors - in our initial example.\n",
    "# What we have not mentioned so far, but what you may have assumed, is the fact that numpy arrays are\n",
    "# containers of items of the same type, e.g. only integers. The homogenous type of the array can be determined\n",
    "# with the attribute \"dtype\", as we can learn from the following example:"
   ]
  },
  {
   "cell_type": "code",
   "execution_count": 7,
   "id": "1e1bdef1-3da2-492e-9152-2ca9026d4e2e",
   "metadata": {},
   "outputs": [
    {
     "name": "stdout",
     "output_type": "stream",
     "text": [
      "F:  [ 1  1  2  3  5  8 13 21]\n",
      "v:  [ 3.4  6.9 99.8 12.8]\n",
      "Type of F:  int32\n",
      "Type of V:  float64\n",
      "Dimension of F:  1\n",
      "Dimension of V:  1\n"
     ]
    }
   ],
   "source": [
    "f = np.array([1, 1, 2, 3, 5, 8, 13, 21])\n",
    "v = np.array([3.4, 6.9, 99.8, 12.8])\n",
    "\n",
    "print('F: ', f)\n",
    "print('v: ', v)\n",
    "print(\"Type of F: \", f.dtype)\n",
    "print(\"Type of V: \", v.dtype)\n",
    "print(\"Dimension of F: \", np.ndim(f))\n",
    "print(\"Dimension of V: \", np.ndim(v))"
   ]
  },
  {
   "cell_type": "code",
   "execution_count": 9,
   "id": "21581237-c037-4178-8070-840832bc6cc1",
   "metadata": {},
   "outputs": [
    {
     "name": "stdout",
     "output_type": "stream",
     "text": [
      "[[ 3.4  8.7  9.9]\n",
      " [ 1.1 -7.8 -0.7]\n",
      " [ 4.1 12.3  4.8]]\n",
      "2\n"
     ]
    }
   ],
   "source": [
    "            #============TWO AND MULTI-DIMENSIONAL ARRAY=============#\n",
    "# Of course, arrays of NumPy are not limited to one dimension. They are of \n",
    "# arbitrary dimension. We create them by passing nested lists (or tuples) to the\n",
    "# array method of numpy.\n",
    "\n",
    "A = np.array([[3.4, 8.7, 9.9],\n",
    "              [1.1, -7.8, -0.7],\n",
    "              [4.1, 12.3, 4.8]])\n",
    "print(A)\n",
    "print(A.ndim)\n"
   ]
  },
  {
   "cell_type": "code",
   "execution_count": 10,
   "id": "b270c6df-5922-42f0-897a-a071ab4547b0",
   "metadata": {},
   "outputs": [
    {
     "name": "stdout",
     "output_type": "stream",
     "text": [
      "[[[ 111  112]\n",
      "  [ 121  122]]\n",
      "\n",
      " [[ 211  212]\n",
      "  [ 221  222]]\n",
      "\n",
      " [[3111  312]\n",
      "  [ 321  322]]]\n",
      "3\n"
     ]
    }
   ],
   "source": [
    "# 3 DIMENSIONAL ARRAY \n",
    "B = np.array([[[111,112],[121, 122]],\n",
    "             [[211, 212],[221,222]],\n",
    "             [[3111, 312],[321, 322]]])\n",
    "print(B)\n",
    "print(B.ndim)"
   ]
  },
  {
   "cell_type": "code",
   "execution_count": null,
   "id": "94a01c1d-ea21-40e5-85b7-3f51f5fea5be",
   "metadata": {},
   "outputs": [],
   "source": []
  }
 ],
 "metadata": {
  "kernelspec": {
   "display_name": "Python 3 (ipykernel)",
   "language": "python",
   "name": "python3"
  },
  "language_info": {
   "codemirror_mode": {
    "name": "ipython",
    "version": 3
   },
   "file_extension": ".py",
   "mimetype": "text/x-python",
   "name": "python",
   "nbconvert_exporter": "python",
   "pygments_lexer": "ipython3",
   "version": "3.12.1"
  }
 },
 "nbformat": 4,
 "nbformat_minor": 5
}
