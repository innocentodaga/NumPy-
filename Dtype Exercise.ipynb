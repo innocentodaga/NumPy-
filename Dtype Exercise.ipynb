{
 "cells": [
  {
   "cell_type": "markdown",
   "id": "24028c12-59e9-422e-8c9e-8e76973dca7b",
   "metadata": {},
   "source": [
    "## Exercise one on Data type\n",
    "1. Define a structured array with two columns. The first column contains the product ID, which can\n",
    "be defined as an int32. The second column shall contain the price for the product. How can you\n",
    "print out the column with the product IDs, the first row and the price for the third article of this\n",
    "structured array?"
   ]
  },
  {
   "cell_type": "code",
   "execution_count": 1,
   "id": "a463c969-1f33-422f-bac5-d500e65a3269",
   "metadata": {},
   "outputs": [
    {
     "name": "stdout",
     "output_type": "stream",
     "text": [
      "[1 2 3 4 5 6]\n",
      "['Books' 'Pens' 'Pencils' 'Rulers' 'Sets' 'Bags']\n",
      "[ 4500  1500   500  2000  2500 25000]\n",
      "(1, 'Books', 4500)\n"
     ]
    }
   ],
   "source": [
    "import numpy as np\n",
    "\n",
    "dt = np.dtype([('ProductId', 'i4'), \n",
    "               ('ProductName', np.unicode_, 20), \n",
    "               ('Price', 'i4')\n",
    "              ])\n",
    "\n",
    "products = np.array([(1, \"Books\", 4500),\n",
    "                     (2, \"Pens\", 1500),\n",
    "                     (3, \"Pencils\", 500),\n",
    "                     (4, \"Rulers\", 2000),\n",
    "                     (5, \"Sets\", 2500),\n",
    "                     (6, \"Bags\", 25000),\n",
    "                    ], dtype=dt)\n",
    "\n",
    "print(products['ProductId'])\n",
    "print(products['ProductName'])\n",
    "print(products['Price'])\n",
    "print(products[0])"
   ]
  },
  {
   "cell_type": "markdown",
   "id": "5d04400c-9136-448b-960c-2fdd647b5afe",
   "metadata": {},
   "source": [
    "2. Figure out a data type definition for time records with entries for hours, minutes and seconds"
   ]
  },
  {
   "cell_type": "code",
   "execution_count": 2,
   "id": "d927931e-1288-434d-a8fb-c5242e506c8e",
   "metadata": {},
   "outputs": [
    {
     "name": "stdout",
     "output_type": "stream",
     "text": [
      "[(11, 38, 5) (14, 56, 0) ( 3,  9, 1)]\n",
      "(11, 38, 5)\n",
      "(14, 33, 0)\n",
      "[(14, 33, 0) (14, 56, 0) ( 3,  9, 1)]\n"
     ]
    }
   ],
   "source": [
    "time_type = np.dtype([('hr', int), ('min', int), ('sec', int)])\n",
    "\n",
    "times = np.array([(11, 38, 5),\n",
    "                 (14, 56, 0,),\n",
    "                 (3, 9, 1),], dtype=time_type)\n",
    "\n",
    "print(times)\n",
    "print(times[0])\n",
    "\n",
    "# reseting the firts time\n",
    "times[0] = (14, 33, 00)\n",
    "print(times[0])\n",
    "\n",
    "print(times)"
   ]
  },
  {
   "cell_type": "code",
   "execution_count": null,
   "id": "4084d794-7d57-44eb-8b1a-1c4b539b1cfb",
   "metadata": {},
   "outputs": [],
   "source": []
  },
  {
   "cell_type": "code",
   "execution_count": null,
   "id": "6ccece91-3394-49f9-a014-3d64446c4df6",
   "metadata": {},
   "outputs": [],
   "source": []
  },
  {
   "cell_type": "code",
   "execution_count": null,
   "id": "d0079a5e-e7f0-45ac-961f-dda3ef341e4b",
   "metadata": {},
   "outputs": [],
   "source": []
  }
 ],
 "metadata": {
  "kernelspec": {
   "display_name": "Python 3 (ipykernel)",
   "language": "python",
   "name": "python3"
  },
  "language_info": {
   "codemirror_mode": {
    "name": "ipython",
    "version": 3
   },
   "file_extension": ".py",
   "mimetype": "text/x-python",
   "name": "python",
   "nbconvert_exporter": "python",
   "pygments_lexer": "ipython3",
   "version": "3.12.5"
  }
 },
 "nbformat": 4,
 "nbformat_minor": 5
}
